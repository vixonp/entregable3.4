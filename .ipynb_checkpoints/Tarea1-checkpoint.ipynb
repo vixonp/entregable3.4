{
 "cells": [
  {
   "cell_type": "markdown",
   "id": "7753e547-6c4d-40f7-b9f2-a9339d6d60e1",
   "metadata": {},
   "source": [
    "# Proyecto Sistemas Distribuidos 2025 - Entregable 1\n",
    "\n",
    "**Nombre:** [Lucas Vicuña, Vicente Silva]  \n",
    "**Curso:** Sistemas Distribuidos  \n",
    "**Profesor:** Nicolás Hidalgo  \n",
    "**Ayudantes:** Sofía Belmar, César Muñoz Rivera, J. Tomás Silva, Joaquín Villegas y Marcelo Yáñez  \n",
    "**Fecha:** 30 Abril 2025\n",
    "\n",
    "---\n",
    "\n"
   ]
  },
  {
   "cell_type": "code",
   "execution_count": 6,
   "id": "3c9caae0-1ce0-495f-9a67-ab97ab0abf6d",
   "metadata": {},
   "outputs": [],
   "source": [
    "#codigo creado x mi para instalacciones limpias en jupyter\n",
    "\n",
    "import subprocess\n",
    "import sys\n",
    "\n",
    "def instalar(paquete, usar_conda=False, canal=None, version=None):\n",
    "    if usar_conda:\n",
    "        comando = [\"conda\", \"install\", \"--yes\"]\n",
    "        if canal:\n",
    "            comando += [\"--channel\", canal]\n",
    "        comando.append(paquete)\n",
    "    else:\n",
    "        comando = [sys.executable, \"-m\", \"pip\", \"install\"]\n",
    "        if version:\n",
    "            comando.append(f\"{paquete}=={version}\")\n",
    "        else:\n",
    "            comando.append(paquete)\n",
    "\n",
    "    resultado = subprocess.run(comando, capture_output=True, text=True)\n",
    "    \n",
    "    if \"Requirement already satisfied\" in resultado.stdout or \"already installed\" in resultado.stdout:\n",
    "        print(f\"✅ La librería '{paquete}' ya está instalada.\")\n",
    "    elif resultado.returncode == 0:\n",
    "        print(f\"✅ La librería '{paquete}' fue instalada correctamente.\")\n",
    "    else:\n",
    "        print(f\"❌ Error al instalar '{paquete}':\\n{resultado.stderr}\")"
   ]
  },
  {
   "cell_type": "markdown",
   "id": "4d85d0cd-851e-4019-b943-79cfe5946713",
   "metadata": {},
   "source": [
    "## Módulo 1: Extracción de Eventos con Webscrapping"
   ]
  },
  {
   "cell_type": "markdown",
   "id": "23dcbe2a-e343-49c0-a14a-aca880083367",
   "metadata": {},
   "source": [
    "### Etapa 1.0 - Instalación de Librerías"
   ]
  },
  {
   "cell_type": "code",
   "execution_count": 33,
   "id": "490ba93e-4074-4bf5-9ad7-6b927c586cad",
   "metadata": {},
   "outputs": [
    {
     "name": "stdout",
     "output_type": "stream",
     "text": [
      "✅ La librería 'selenium' ya está instalada.\n"
     ]
    }
   ],
   "source": [
    "instalar(\"selenium\")"
   ]
  },
  {
   "cell_type": "code",
   "execution_count": 3,
   "id": "82fda996-2202-4254-be38-8e741525f678",
   "metadata": {},
   "outputs": [
    {
     "name": "stdout",
     "output_type": "stream",
     "text": [
      "✅ La librería 'webdriver_manager' ya está instalada.\n"
     ]
    }
   ],
   "source": [
    "instalar(\"webdriver_manager\")"
   ]
  },
  {
   "cell_type": "code",
   "execution_count": 4,
   "id": "903115dc-44b0-44d5-86ae-da1bd601f433",
   "metadata": {},
   "outputs": [
    {
     "name": "stdout",
     "output_type": "stream",
     "text": [
      "✅ La librería 'matplotlib' ya está instalada.\n"
     ]
    }
   ],
   "source": [
    "instalar(\"matplotlib\")"
   ]
  },
  {
   "cell_type": "code",
   "execution_count": 5,
   "id": "b65e6bda-c601-4837-b8b4-10fb40cbeab0",
   "metadata": {},
   "outputs": [
    {
     "name": "stdout",
     "output_type": "stream",
     "text": [
      "✅ La librería 'mysql-connector-python' ya está instalada.\n"
     ]
    }
   ],
   "source": [
    "instalar(\"mysql-connector-python\")\n"
   ]
  },
  {
   "cell_type": "code",
   "execution_count": 19,
   "id": "8f836743-d7c3-4c87-ada8-4da30c73db0f",
   "metadata": {},
   "outputs": [
    {
     "name": "stdout",
     "output_type": "stream",
     "text": [
      "✅ La librería 'redis' fue instalada correctamente.\n"
     ]
    }
   ],
   "source": [
    "instalar(\"redis\")"
   ]
  },
  {
   "cell_type": "code",
   "execution_count": 29,
   "id": "4b718e4d-f998-4d37-866e-7f8f4868ea7b",
   "metadata": {},
   "outputs": [
    {
     "name": "stdout",
     "output_type": "stream",
     "text": [
      "✅ La librería 'matplotlib' ya está instalada.\n"
     ]
    }
   ],
   "source": [
    "instalar(\"matplotlib\")"
   ]
  },
  {
   "cell_type": "code",
   "execution_count": 30,
   "id": "0d5458f4-eb15-45dd-9828-662c57f4b135",
   "metadata": {},
   "outputs": [
    {
     "name": "stdout",
     "output_type": "stream",
     "text": [
      "✅ La librería 'openpyxl' ya está instalada.\n"
     ]
    }
   ],
   "source": [
    "instalar(\"openpyxl\")"
   ]
  },
  {
   "cell_type": "code",
   "execution_count": 32,
   "id": "3a49809d-e357-493d-a0d7-69a7617565cf",
   "metadata": {},
   "outputs": [
    {
     "name": "stdout",
     "output_type": "stream",
     "text": [
      "✅ La librería 'pandas' ya está instalada.\n"
     ]
    }
   ],
   "source": [
    "instalar(\"pandas\")"
   ]
  },
  {
   "cell_type": "markdown",
   "id": "2e58e0fe-91f1-4e51-ba49-2da7640810eb",
   "metadata": {},
   "source": [
    "### Etapa 1.1 - Importación de librerías"
   ]
  },
  {
   "cell_type": "code",
   "execution_count": 4,
   "id": "38eac67f-f73f-4d4d-a47c-28e37de5078d",
   "metadata": {},
   "outputs": [],
   "source": [
    "from selenium import webdriver\n",
    "from selenium.webdriver.chrome.options import Options\n",
    "from selenium.webdriver.common.by import By\n",
    "from selenium.webdriver.chrome.service import Service\n",
    "from selenium.webdriver.support.ui import WebDriverWait\n",
    "from selenium.webdriver.support import expected_conditions as EC\n",
    "import time\n",
    "\n",
    "import sqlite3\n",
    "from datetime import datetime\n",
    "import mysql.connector\n",
    "from mysql.connector import Error\n",
    "\n",
    "import pandas as pd\n",
    "\n",
    "import matplotlib.pyplot as plt\n",
    "\n",
    "import os\n",
    "\n",
    "from tqdm import tqdm"
   ]
  },
  {
   "cell_type": "markdown",
   "id": "015c4a6a-bd31-4cf0-b870-f96d295709d0",
   "metadata": {},
   "source": [
    "### Etapa 1.2 - Definición del bounding box para la Región Metropolitana (Santiago, Chile)\n",
    "\n",
    "Usamos las coordenadas geográficas para definir un área rectangular de consulta. Estas coordenadas encierran el centro urbano de Santiago.\n"
   ]
  },
  {
   "cell_type": "code",
   "execution_count": 3,
   "id": "b6c63f71-325d-4868-ba0e-7dcc185d4d9f",
   "metadata": {},
   "outputs": [],
   "source": [
    "bounding_box = {\n",
    "    \"bottom\": -33.87,  # límite sur (Paine, San Bernardo)\n",
    "    \"top\":    -33.28,  # límite norte (Colina, Lampa)\n",
    "    \"left\":   -71.02,  # límite oeste (Melipilla, Curacaví)\n",
    "    \"right\":  -70.38   # límite este (San José de Maipo, Farellones)\n",
    "}\n"
   ]
  },
  {
   "cell_type": "markdown",
   "id": "cd55cf22-7da9-4f73-983a-d4765f5bb92c",
   "metadata": {},
   "source": [
    "Estas coordenadas cubren toda la zona urbana central de la Región Metropolitana: Santiago Centro, Providencia, Ñuñoa, Maipú, Las Condes, etc."
   ]
  },
  {
   "cell_type": "markdown",
   "id": "c1bc39ae-8ffd-4d8b-8d1a-c58d232cd0e1",
   "metadata": {},
   "source": [
    "# Driver\n",
    "\n",
    "https://storage.googleapis.com/chrome-for-testing-public/135.0.7049.95/win32/chromedriver-win32.zip\n",
    "\n",
    "*EL DRIVER DEBE ESTAR EN LA MISMA CARPETA DEL JUPYTER*"
   ]
  },
  {
   "cell_type": "code",
   "execution_count": 4,
   "id": "6ccbd620-5da5-4016-b1dd-3953c793ab18",
   "metadata": {},
   "outputs": [],
   "source": [
    "driver_path = \"chromedriver.exe\""
   ]
  },
  {
   "cell_type": "markdown",
   "id": "afd1a5b9-cadc-4cd4-a454-ebc7af94a47a",
   "metadata": {},
   "source": [
    "### Etapa 1.3 - Verificación básica de Selenium\n",
    "\n",
    "En esta etapa probamos que `selenium` se puede ejecutar correctamente con `chromedriver.exe` y que abre una ventana de navegador de forma controlada."
   ]
  },
  {
   "cell_type": "code",
   "execution_count": 5,
   "id": "1ab173aa-31d8-4f06-b71f-87a6613adc6d",
   "metadata": {},
   "outputs": [
    {
     "name": "stdout",
     "output_type": "stream",
     "text": [
      "✅ Selenium funciona correctamente con Chrome (WAZE).\n"
     ]
    }
   ],
   "source": [
    "# Configurar opciones\n",
    "options = Options()\n",
    "options.add_argument(\"--start-maximized\")  # pantalla completa\n",
    "# options.add_argument(\"--headless\")  # si lo quieres invisible, activa esto\n",
    "\n",
    "# Ruta del driver\n",
    "service = Service(executable_path=\"chromedriver.exe\")\n",
    "\n",
    "# Crear instancia del navegador\n",
    "driver = webdriver.Chrome(service=service, options=options)\n",
    "\n",
    "# Cargar una página simple (Google para prueba)\n",
    "driver.get(\"https://www.waze.com/es-419/live-map/\")\n",
    "\n",
    "# Esperar unos segundos para ver que funciona\n",
    "time.sleep(5)\n",
    "\n",
    "# Cerrar navegador\n",
    "driver.quit()\n",
    "print(\"✅ Selenium funciona correctamente con Chrome (WAZE).\")\n"
   ]
  },
  {
   "cell_type": "markdown",
   "id": "72f49b1f-c4c8-4c5d-b45a-1bfd0c3d237f",
   "metadata": {},
   "source": [
    "### Etapa 1.4 - Inicialización de Selenium y selección del tipo de pantalla\n",
    "\n",
    "Esta celda permite al usuario elegir cómo se abrirá el navegador: maximizado, pantalla completa, minimizado o con un tamaño personalizado. Luego, se abre el mapa de Waze centrado en la Región Metropolitana usando el bounding box.\n",
    "\n"
   ]
  },
  {
   "cell_type": "code",
   "execution_count": 6,
   "id": "9ac45bfa-0add-4a1d-ac64-e0c649e4518c",
   "metadata": {},
   "outputs": [
    {
     "name": "stdout",
     "output_type": "stream",
     "text": [
      "📺 Cómo quieres abrir la pantalla del navegador:\n",
      "1: start-maximized\n",
      "2: start-fullscreen\n",
      "3: start-minimized\n",
      "4: window_size(x, y) personalizada\n"
     ]
    },
    {
     "name": "stdin",
     "output_type": "stream",
     "text": [
      "Elige una opción [1-4]:  1\n"
     ]
    },
    {
     "name": "stdout",
     "output_type": "stream",
     "text": [
      "✅ Mapa centrado en lat: -33.575, lon: -70.69999999999999\n",
      "✅ Selenium listo. Puedes ver el mapa y los eventos.\n"
     ]
    }
   ],
   "source": [
    "# OPCIONES DE PANTALLA \n",
    "options = Options()\n",
    "print(\"📺 Cómo quieres abrir la pantalla del navegador:\")\n",
    "print(\"1: start-maximized\")\n",
    "print(\"2: start-fullscreen\")\n",
    "print(\"3: start-minimized\")\n",
    "print(\"4: window_size(x, y) personalizada\")\n",
    "\n",
    "opcion_pantalla = int(input(\"Elige una opción [1-4]: \"))\n",
    "\n",
    "if opcion_pantalla == 1:\n",
    "    options.add_argument(\"--start-maximized\")\n",
    "elif opcion_pantalla == 2:\n",
    "    options.add_argument(\"--start-fullscreen\")\n",
    "elif opcion_pantalla == 3:\n",
    "    options.add_argument(\"--start-minimized\")\n",
    "elif opcion_pantalla == 4:\n",
    "    x = input(\"Ancho (x): \")\n",
    "    y = input(\"Alto (y): \")\n",
    "    options.add_argument(f\"--window-size={x},{y}\")\n",
    "else:\n",
    "    print(\"❌ Opción inválida. Usando resolución por defecto (1280x800)\")\n",
    "    options.add_argument(\"--window-size=1280,800\")\n",
    "\n",
    "# INICIALIZACIÓN DRIVER \n",
    "driver_path = \"chromedriver.exe\"\n",
    "service = Service(driver_path)\n",
    "driver = webdriver.Chrome(service=service, options=options)\n",
    "\n",
    "center_lat = (bounding_box[\"bottom\"] + bounding_box[\"top\"]) / 2\n",
    "center_lon = (bounding_box[\"left\"] + bounding_box[\"right\"]) / 2\n",
    "\n",
    "# ABRIR WAZE LIVE MAP \n",
    "driver.get(\"https://www.waze.com/live-map\")\n",
    "time.sleep(10)  # esperar carga\n",
    "\n",
    "# INTENTAR CENTRAR MAPA VIA JS\n",
    "try:\n",
    "    script = f\"\"\"\n",
    "        var map = document.querySelector(\"wz-live-map\")?.map;\n",
    "        if (map) {{\n",
    "            map.setView([{center_lat}, {center_lon}], 15);\n",
    "        }}\n",
    "    \"\"\"\n",
    "    driver.execute_script(script)\n",
    "    print(f\"✅ Mapa centrado en lat: {center_lat}, lon: {center_lon}\")\n",
    "except Exception as e:\n",
    "    print(\"⚠️ No se pudo centrar automáticamente:\", e)\n",
    "\n",
    "# INICIALIZAR LISTAS \n",
    "eventos_descripciones = []\n",
    "eventos_latitudes = []\n",
    "eventos_longitudes = []\n",
    "eventos_tipos = []\n",
    "\n",
    "print(\"✅ Selenium listo. Puedes ver el mapa y los eventos.\")"
   ]
  },
  {
   "cell_type": "markdown",
   "id": "0393cecc-c098-435a-ab1f-60c1b24e6165",
   "metadata": {},
   "source": [
    "### Etapa 1.5 - Levantamiento del contenedor MySQL (Docker)\n",
    "\n",
    "Se configuró un contenedor Docker utilizando `docker compose` para ejecutar un servidor MySQL 8.0. Esta base de datos cumple la función de almacenamiento central del sistema, permitiendo el acceso concurrente desde diferentes módulos como el scraper, generador de tráfico y sistema de caché.\n",
    "\n",
    "La configuración considera:\n",
    "\n",
    "- Un archivo `.env` con credenciales y nombre de base de datos\n",
    "- Un `docker-compose.yml` que define el contenedor `mysql_eventos`\n",
    "- Un archivo `init.sql` que crea automáticamente la tabla `eventos` al iniciar el contenedor por primera vez\n",
    "\n",
    "El contenedor se levanta desde la terminal o desde una celda de Jupyter mediante:\n",
    "\n",
    "```bash\n",
    "docker compose up -d\n"
   ]
  },
  {
   "cell_type": "code",
   "execution_count": 7,
   "id": "4e8deb24-7ff1-44f7-bb39-e14f5f251e4f",
   "metadata": {},
   "outputs": [
    {
     "name": "stdout",
     "output_type": "stream",
     "text": [
      "✅ Docker está corriendo.\n",
      "🔵 Puedes ejecutar docker compose up -d ahora.\n"
     ]
    }
   ],
   "source": [
    "def verificar_docker():\n",
    "    try:\n",
    "        resultado = subprocess.run([\"docker\", \"info\"], capture_output=True, text=True, timeout=5)\n",
    "        if resultado.returncode == 0:\n",
    "            print(\"✅ Docker está corriendo.\")\n",
    "            return True\n",
    "        else:\n",
    "            print(\"❌ Docker NO está corriendo. Abre Docker Desktop primero.\")\n",
    "            return False\n",
    "    except Exception as e:\n",
    "        print(f\"⚠️ Error al intentar conectar a Docker: {e}\")\n",
    "        return False\n",
    "\n",
    "if verificar_docker():\n",
    "    print(\"🔵 Puedes ejecutar docker compose up -d ahora.\")\n",
    "else:\n",
    "    print(\"🔴 No se puede levantar servicios hasta que Docker esté activo.\")"
   ]
  },
  {
   "cell_type": "code",
   "execution_count": 8,
   "id": "5628e5dc-633e-4c7b-8ce2-9cd05d6460ef",
   "metadata": {},
   "outputs": [
    {
     "name": "stderr",
     "output_type": "stream",
     "text": [
      "time=\"2025-04-29T22:58:42-04:00\" level=warning msg=\"C:\\\\Universidad\\\\Sistemas_distribuidos\\\\Proyecto\\\\entregable1\\\\docker-compose.yml: the attribute `version` is obsolete, it will be ignored, please remove it to avoid potential confusion\"\n",
      " Container mysql_eventos  Running\n"
     ]
    }
   ],
   "source": [
    "!docker compose up -d"
   ]
  },
  {
   "cell_type": "code",
   "execution_count": 21,
   "id": "329aa6ee-8ec9-4a2b-82f4-ed9ef21c8226",
   "metadata": {},
   "outputs": [
    {
     "name": "stdout",
     "output_type": "stream",
     "text": [
      "1d8fb1ee7627143aca485096f23eca3e0ba85645052fe8825d369b3979ed4cb4\n"
     ]
    },
    {
     "name": "stderr",
     "output_type": "stream",
     "text": [
      "Unable to find image 'redis:latest' locally\n",
      "latest: Pulling from library/redis\n",
      "254e724d7786: Pulling fs layer\n",
      "4f4fb700ef54: Pulling fs layer\n",
      "e14bd717af36: Pulling fs layer\n",
      "a131b527c2eb: Pulling fs layer\n",
      "1d380dfb74a4: Pulling fs layer\n",
      "c9e771e39c60: Pulling fs layer\n",
      "3781e1e8cbc4: Pulling fs layer\n",
      "f5340b1d1605: Pulling fs layer\n",
      "3781e1e8cbc4: Download complete\n",
      "4f4fb700ef54: Download complete\n",
      "e14bd717af36: Download complete\n",
      "a131b527c2eb: Download complete\n",
      "f5340b1d1605: Download complete\n",
      "1d380dfb74a4: Download complete\n",
      "254e724d7786: Download complete\n",
      "c9e771e39c60: Download complete\n",
      "254e724d7786: Pull complete\n",
      "e14bd717af36: Pull complete\n",
      "a131b527c2eb: Pull complete\n",
      "1d380dfb74a4: Pull complete\n",
      "3781e1e8cbc4: Pull complete\n",
      "4f4fb700ef54: Pull complete\n",
      "f5340b1d1605: Pull complete\n",
      "c9e771e39c60: Pull complete\n",
      "Digest: sha256:7df1eeff67eb0ba84f6b9d2940765a6bb1158081426745c185a03b1507de6a09\n",
      "Status: Downloaded newer image for redis:latest\n"
     ]
    }
   ],
   "source": [
    "!docker run -d --name redis-server -p 6379:6379 redis"
   ]
  },
  {
   "cell_type": "code",
   "execution_count": 22,
   "id": "ba758a29-eb19-42ae-a58e-b5ddca6838af",
   "metadata": {},
   "outputs": [
    {
     "name": "stdout",
     "output_type": "stream",
     "text": [
      "CONTAINER ID   IMAGE       COMMAND                  CREATED          STATUS          PORTS                               NAMES\n",
      "1d8fb1ee7627   redis       \"docker-entrypoint.sâ€¦\"   34 seconds ago   Up 33 seconds   0.0.0.0:6379->6379/tcp              redis-server\n",
      "3b2e68a16c5b   mysql:8.0   \"docker-entrypoint.sâ€¦\"   13 days ago      Up 2 hours      0.0.0.0:3306->3306/tcp, 33060/tcp   mysql_eventos\n"
     ]
    }
   ],
   "source": [
    "!docker ps"
   ]
  },
  {
   "cell_type": "markdown",
   "id": "405235ad-67d6-48a4-aa08-80d8b9e1957a",
   "metadata": {},
   "source": [
    "### Etapa 1.6 - Inicialización de base de datos MySQL\n",
    "\n",
    "Se inicializa un contenedor MySQL utilizando Docker y se configura la base de datos `eventosdb` mediante un archivo `init.sql`. Esta base almacena los eventos recolectados desde el mapa de Waze.\n",
    "\n",
    "La tabla `eventos` incluye los siguientes campos:\n",
    "\n",
    "- `tipo`: tipo de alerta o evento detectado (ej: hazard, police, accident)\n",
    "- `descripcion`: texto descriptivo del evento\n",
    "- `lat`: latitud del cuadrante donde se detectó\n",
    "- `lon`: longitud del cuadrante donde se detectó\n",
    "- `fecha_extraccion`: fecha y hora en que se registró el evento\n",
    "- `cuadrante`: etiqueta del cuadrante desde donde se extrajo el dato\n",
    "\n",
    "Este paso se automatiza con Docker usando `docker-compose`, conectando luego a MySQL desde un notebook de Python para su verificación.\n",
    "\n"
   ]
  },
  {
   "cell_type": "code",
   "execution_count": 9,
   "id": "3bcd76c4-d950-44b6-9c39-c4ce2e1b3069",
   "metadata": {},
   "outputs": [
    {
     "name": "stdout",
     "output_type": "stream",
     "text": [
      "✅ Tabla 'eventos' creada correctamente (o ya existía).\n"
     ]
    }
   ],
   "source": [
    "import mysql.connector\n",
    "\n",
    "# Conexión inicial a MySQL\n",
    "conn = mysql.connector.connect(\n",
    "    host=\"localhost\",\n",
    "    user=\"usuario\",\n",
    "    password=\"pass123\",\n",
    "    database=\"eventosdb\",\n",
    "    port=3306\n",
    ")\n",
    "cursor = conn.cursor()\n",
    "\n",
    "# Crear tabla eventos (si no existe)\n",
    "cursor.execute(\"\"\"\n",
    "CREATE TABLE IF NOT EXISTS eventos (\n",
    "    id INT AUTO_INCREMENT PRIMARY KEY,\n",
    "    tipo VARCHAR(255),\n",
    "    descripcion TEXT,\n",
    "    lat DOUBLE,\n",
    "    lon DOUBLE,\n",
    "    fecha_extraccion DATETIME,\n",
    "    cuadrante VARCHAR(255),\n",
    "    calle VARCHAR(255)\n",
    ");\n",
    "\"\"\")\n",
    "\n",
    "\n",
    "\n",
    "conn.commit()\n",
    "cursor.close()\n",
    "conn.close()\n",
    "\n",
    "print(\"✅ Tabla 'eventos' creada correctamente (o ya existía).\")\n",
    "\n"
   ]
  },
  {
   "cell_type": "markdown",
   "id": "8833b49b-88a7-48b8-acaf-a31d3d0f05cd",
   "metadata": {},
   "source": [
    "### Etapa 1.7 - Extracción sistemática de eventos desde el bounding box\n",
    "\n",
    "Dividimos el bounding box definido previamente en una grilla de cuadrantes (por ejemplo, 5x5) y recorremos uno a uno. Para cada cuadrante:\n",
    "- Centramos el mapa con JavaScript (`setView`).\n",
    "- Esperamos la carga de eventos.\n",
    "- Extraemos tipo, clase y guardamos fecha + cuadrante.\n",
    "El proceso se repite hasta acumular al menos 10.000 eventos únicos.\n"
   ]
  },
  {
   "cell_type": "markdown",
   "id": "bc210837-470d-4f31-ab21-edcf48dea602",
   "metadata": {},
   "source": [
    "### Etapa 1.7 - Visualización y exportación de eventos capturados\n",
    "\n",
    "En esta etapa revisamos la información extraída del mapa de Waze y almacenada en la base de datos SQLite. Mostramos un resumen de los tipos de eventos detectados y exportamos los datos a un archivo Excel (.xlsx) con dos hojas:\n",
    "\n",
    "- **\"Eventos\"**: Contiene todos los registros extraídos (tipo, descripción, coordenadas, fecha).\n",
    "- **\"Resumen\"**: Contiene la cantidad total de eventos agrupados por tipo.\n"
   ]
  },
  {
   "cell_type": "code",
   "execution_count": 7,
   "id": "418d4b13-b4bc-45bc-8578-ad244910d577",
   "metadata": {},
   "outputs": [
    {
     "name": "stdin",
     "output_type": "stream",
     "text": [
      "¿Ejecutar en modo headless (sin abrir navegador)? [s/n]:  n\n"
     ]
    },
    {
     "name": "stdout",
     "output_type": "stream",
     "text": [
      "✅ Ya existen 8297 eventos en la base de datos.\n",
      "\n",
      "🔄 Expansión 1x1 con zoom 14 - Cuadrantes: 1\n"
     ]
    },
    {
     "name": "stderr",
     "output_type": "stream",
     "text": [
      "📊 Eventos acumulados:  83%|████████████████████████████████████████▋        | 8297/10000 [7:46:39<33:42:13, 71.25s/it]\n",
      "\n",
      "📊 Eventos acumulados:  83%|███████████████████████████████████████████▏        | 8298/10000 [00:09<4:22:59,  9.27s/it]\u001b[A\n",
      "📍 Recorrido cuadrantes: 100%|███████████████████████████████████████████████████████████| 1/1 [00:09<00:00,  9.39s/it]\u001b[A\n",
      "📊 Eventos acumulados:  83%|████████████████████████████████████████████▊         | 8302/10000 [00:09<53:11,  1.88s/it]\u001b[A\n"
     ]
    },
    {
     "name": "stdout",
     "output_type": "stream",
     "text": [
      "\n",
      "🔄 Expansión 2x2 con zoom 14 - Cuadrantes: 9\n"
     ]
    },
    {
     "name": "stderr",
     "output_type": "stream",
     "text": [
      "📊 Eventos acumulados:  83%|███████████████████████████████████████████████████▍          | 8302/10000 [00:00<?, ?it/s]\n",
      "📊 Eventos acumulados:  83%|███████████████████████████████████████████▏        | 8303/10000 [00:08<3:55:01,  8.31s/it]\u001b[A\n",
      "📊 Eventos acumulados:  83%|███████████████████████████████████████████▏        | 8307/10000 [00:16<1:25:18,  3.02s/it]\u001b[A\n",
      "📊 Eventos acumulados:  83%|███████████████████████████████████████████▏        | 8311/10000 [00:25<1:10:56,  2.52s/it]\u001b[A\n",
      "📊 Eventos acumulados:  83%|████████████████████████████████████████████▉         | 8316/10000 [00:33<58:56,  2.10s/it]\u001b[A\n",
      "📊 Eventos acumulados:  83%|███████████████████████████████████████████▎        | 8319/10000 [00:40<1:01:11,  2.18s/it]\u001b[A\n",
      "📊 Eventos acumulados:  83%|████████████████████████████████████████████▉         | 8332/10000 [00:49<29:35,  1.06s/it]\u001b[A\n",
      "📊 Eventos acumulados:  83%|█████████████████████████████████████████████         | 8342/10000 [00:58<23:44,  1.16it/s]\u001b[A\n",
      "📊 Eventos acumulados:  83%|█████████████████████████████████████████████         | 8346/10000 [01:06<32:15,  1.17s/it]\u001b[A\n",
      "📊 Eventos acumulados:  84%|█████████████████████████████████████████████         | 8356/10000 [01:15<24:56,  1.10it/s]\u001b[A\n",
      "📍 Recorrido cuadrantes: 100%|███████████████████████████████████████████████████████████| 9/9 [01:15<00:00,  8.47s/it]\u001b[A\n",
      "📊 Eventos acumulados:  84%|█████████████████████████████████████████████▏        | 8357/10000 [01:15<37:32,  1.37s/it]\u001b[A\n"
     ]
    },
    {
     "name": "stdout",
     "output_type": "stream",
     "text": [
      "\n",
      "🔄 Expansión 3x3 con zoom 13 - Cuadrantes: 25\n"
     ]
    },
    {
     "name": "stderr",
     "output_type": "stream",
     "text": [
      "📊 Eventos acumulados:  84%|███████████████████████████████████████████████████▊          | 8357/10000 [00:00<?, ?it/s]\n",
      "📊 Eventos acumulados:  84%|███████████████████████████████████████████▍        | 8358/10000 [00:08<3:46:39,  8.28s/it]\u001b[A\n",
      "📊 Eventos acumulados:  84%|███████████████████████████████████████████▍        | 8360/10000 [00:16<2:22:08,  5.20s/it]\u001b[A\n",
      "📊 Eventos acumulados:  84%|█████████████████████████████████████████████▏        | 8368/10000 [00:24<41:24,  1.52s/it]\u001b[A\n",
      "📊 Eventos acumulados:  84%|█████████████████████████████████████████████▏        | 8370/10000 [00:33<59:32,  2.19s/it]\u001b[A\n",
      "📊 Eventos acumulados:  84%|█████████████████████████████████████████████▏        | 8378/10000 [00:41<41:03,  1.52s/it]\u001b[A\n",
      "📊 Eventos acumulados:  84%|█████████████████████████████████████████████▎        | 8381/10000 [00:50<49:01,  1.82s/it]\u001b[A\n",
      "📊 Eventos acumulados:  84%|█████████████████████████████████████████████▎        | 8385/10000 [00:57<50:07,  1.86s/it]\u001b[A\n",
      "📊 Eventos acumulados:  84%|█████████████████████████████████████████████▎        | 8397/10000 [01:05<28:03,  1.05s/it]\u001b[A\n",
      "📊 Eventos acumulados:  84%|█████████████████████████████████████████████▎        | 8399/10000 [01:13<39:13,  1.47s/it]\u001b[A\n",
      "📊 Eventos acumulados:  84%|█████████████████████████████████████████████▍        | 8407/10000 [01:22<30:28,  1.15s/it]\u001b[A\n",
      "📊 Eventos acumulados:  84%|█████████████████████████████████████████████▍        | 8410/10000 [01:30<40:43,  1.54s/it]\u001b[A\n",
      "📊 Eventos acumulados:  84%|█████████████████████████████████████████████▍        | 8415/10000 [01:38<41:02,  1.55s/it]\u001b[A\n",
      "📊 Eventos acumulados:  84%|█████████████████████████████████████████████▍        | 8419/10000 [01:46<44:00,  1.67s/it]\u001b[A\n",
      "📊 Eventos acumulados:  84%|█████████████████████████████████████████████▌        | 8432/10000 [01:54<25:29,  1.03it/s]\u001b[A\n",
      "📊 Eventos acumulados:  84%|█████████████████████████████████████████████▌        | 8434/10000 [02:02<37:18,  1.43s/it]\u001b[A\n",
      "📊 Eventos acumulados:  84%|█████████████████████████████████████████████▌        | 8445/10000 [02:11<25:33,  1.01it/s]\u001b[A\n",
      "📊 Eventos acumulados:  84%|█████████████████████████████████████████████▌        | 8447/10000 [02:18<36:52,  1.42s/it]\u001b[A\n",
      "📊 Eventos acumulados:  85%|█████████████████████████████████████████████▋        | 8460/10000 [02:27<21:16,  1.21it/s]\u001b[A\n",
      "📊 Eventos acumulados:  85%|█████████████████████████████████████████████▋        | 8463/10000 [02:34<29:58,  1.17s/it]\u001b[A\n",
      "📊 Eventos acumulados:  85%|█████████████████████████████████████████████▊        | 8474/10000 [02:43<22:33,  1.13it/s]\u001b[A\n",
      "📊 Eventos acumulados:  85%|█████████████████████████████████████████████▊        | 8481/10000 [02:52<23:44,  1.07it/s]\u001b[A\n",
      "📊 Eventos acumulados:  85%|█████████████████████████████████████████████▊        | 8484/10000 [03:00<34:29,  1.36s/it]\u001b[A\n",
      "📊 Eventos acumulados:  85%|█████████████████████████████████████████████▉        | 8496/10000 [03:08<22:13,  1.13it/s]\u001b[A\n",
      "📊 Eventos acumulados:  85%|█████████████████████████████████████████████▉        | 8504/10000 [03:17<21:36,  1.15it/s]\u001b[A\n",
      "📊 Eventos acumulados:  85%|█████████████████████████████████████████████▉        | 8512/10000 [03:25<21:08,  1.17it/s]\u001b[A\n",
      "📍 Recorrido cuadrantes: 100%|█████████████████████████████████████████████████████████| 25/25 [03:25<00:00,  8.42s/it]\u001b[A\n",
      "📊 Eventos acumulados:  85%|█████████████████████████████████████████████▉        | 8512/10000 [03:25<32:57,  1.33s/it]\u001b[A\n"
     ]
    },
    {
     "name": "stdout",
     "output_type": "stream",
     "text": [
      "\n",
      "🔄 Expansión 4x4 con zoom 13 - Cuadrantes: 49\n"
     ]
    },
    {
     "name": "stderr",
     "output_type": "stream",
     "text": [
      "📊 Eventos acumulados:  85%|████████████████████████████████████████████████████▊         | 8512/10000 [00:00<?, ?it/s]\n",
      "📊 Eventos acumulados:  85%|████████████████████████████████████████████▎       | 8513/10000 [00:08<3:24:54,  8.27s/it]\u001b[A\n",
      "📊 Eventos acumulados:  85%|████████████████████████████████████████████▎       | 8514/10000 [00:16<3:27:35,  8.38s/it]\u001b[A\n",
      "📊 Eventos acumulados:  85%|████████████████████████████████████████████▎       | 8515/10000 [00:25<3:27:21,  8.38s/it]\u001b[A\n",
      "📊 Eventos acumulados:  85%|████████████████████████████████████████████▎       | 8520/10000 [00:33<1:20:03,  3.25s/it]\u001b[A\n",
      "📊 Eventos acumulados:  85%|████████████████████████████████████████████▎       | 8524/10000 [00:41<1:06:32,  2.70s/it]\u001b[A\n",
      "📊 Eventos acumulados:  85%|████████████████████████████████████████████▎       | 8526/10000 [00:50<1:15:14,  3.06s/it]\u001b[A\n",
      "📊 Eventos acumulados:  85%|████████████████████████████████████████████▎       | 8527/10000 [00:58<1:34:34,  3.85s/it]\u001b[A\n",
      "📊 Eventos acumulados:  85%|████████████████████████████████████████████▎       | 8530/10000 [01:06<1:24:05,  3.43s/it]\u001b[A\n",
      "📊 Eventos acumulados:  85%|████████████████████████████████████████████▎       | 8533/10000 [01:14<1:15:17,  3.08s/it]\u001b[A\n",
      "📊 Eventos acumulados:  85%|████████████████████████████████████████████▍       | 8534/10000 [01:21<1:30:22,  3.70s/it]\u001b[A\n",
      "📊 Eventos acumulados:  85%|██████████████████████████████████████████████▏       | 8542/10000 [01:28<41:04,  1.69s/it]\u001b[A\n",
      "📊 Eventos acumulados:  85%|██████████████████████████████████████████████▏       | 8544/10000 [01:36<51:34,  2.13s/it]\u001b[A\n",
      "📊 Eventos acumulados:  85%|██████████████████████████████████████████████▏       | 8547/10000 [01:43<54:02,  2.23s/it]\u001b[A\n",
      "📊 Eventos acumulados:  85%|████████████████████████████████████████████▍       | 8549/10000 [01:52<1:05:03,  2.69s/it]\u001b[A\n",
      "📊 Eventos acumulados:  86%|██████████████████████████████████████████████▏       | 8554/10000 [02:00<53:55,  2.24s/it]\u001b[A\n",
      "📊 Eventos acumulados:  86%|██████████████████████████████████████████████▏       | 8558/10000 [02:07<50:28,  2.10s/it]\u001b[A\n",
      "📊 Eventos acumulados:  86%|██████████████████████████████████████████████▏       | 8562/10000 [02:15<48:17,  2.02s/it]\u001b[A\n",
      "📊 Eventos acumulados:  86%|██████████████████████████████████████████████▎       | 8567/10000 [02:22<43:23,  1.82s/it]\u001b[A\n",
      "📊 Eventos acumulados:  86%|██████████████████████████████████████████████▎       | 8574/10000 [02:30<35:34,  1.50s/it]\u001b[A\n",
      "📊 Eventos acumulados:  86%|██████████████████████████████████████████████▎       | 8581/10000 [02:37<29:01,  1.23s/it]\u001b[A\n",
      "📊 Eventos acumulados:  86%|██████████████████████████████████████████████▍       | 8590/10000 [02:46<22:10,  1.06it/s]\u001b[A\n",
      "📊 Eventos acumulados:  86%|██████████████████████████████████████████████▍       | 8598/10000 [02:54<20:48,  1.12it/s]\u001b[A\n",
      "📊 Eventos acumulados:  86%|██████████████████████████████████████████████▍       | 8601/10000 [03:01<29:01,  1.24s/it]\u001b[A\n",
      "📊 Eventos acumulados:  86%|██████████████████████████████████████████████▍       | 8605/10000 [03:09<33:12,  1.43s/it]\u001b[A\n",
      "📊 Eventos acumulados:  86%|██████████████████████████████████████████████▍       | 8607/10000 [03:16<42:20,  1.82s/it]\u001b[A\n",
      "📊 Eventos acumulados:  86%|██████████████████████████████████████████████▌       | 8614/10000 [03:24<33:53,  1.47s/it]\u001b[A\n",
      "📊 Eventos acumulados:  86%|██████████████████████████████████████████████▌       | 8625/10000 [03:31<21:28,  1.07it/s]\u001b[A\n",
      "📊 Eventos acumulados:  86%|██████████████████████████████████████████████▋       | 8635/10000 [03:40<17:56,  1.27it/s]\u001b[A\n",
      "📊 Eventos acumulados:  86%|██████████████████████████████████████████████▋       | 8638/10000 [03:48<26:44,  1.18s/it]\u001b[A\n",
      "📊 Eventos acumulados:  86%|██████████████████████████████████████████████▋       | 8641/10000 [03:55<32:58,  1.46s/it]\u001b[A\n",
      "📊 Eventos acumulados:  87%|██████████████████████████████████████████████▋       | 8654/10000 [04:03<19:13,  1.17it/s]\u001b[A\n",
      "📊 Eventos acumulados:  87%|██████████████████████████████████████████████▋       | 8657/10000 [04:10<26:12,  1.17s/it]\u001b[A\n",
      "📊 Eventos acumulados:  87%|██████████████████████████████████████████████▊       | 8669/10000 [04:18<17:23,  1.28it/s]\u001b[A\n",
      "📊 Eventos acumulados:  87%|██████████████████████████████████████████████▊       | 8672/10000 [04:25<24:31,  1.11s/it]\u001b[A\n",
      "📊 Eventos acumulados:  87%|██████████████████████████████████████████████▉       | 8681/10000 [04:34<20:10,  1.09it/s]\u001b[A\n",
      "📊 Eventos acumulados:  87%|██████████████████████████████████████████████▉       | 8684/10000 [04:42<28:50,  1.31s/it]\u001b[A\n",
      "📊 Eventos acumulados:  87%|██████████████████████████████████████████████▉       | 8686/10000 [04:49<37:32,  1.71s/it]\u001b[A\n",
      "📊 Eventos acumulados:  87%|██████████████████████████████████████████████▉       | 8691/10000 [04:57<35:35,  1.63s/it]\u001b[A\n",
      "📊 Eventos acumulados:  87%|██████████████████████████████████████████████▉       | 8695/10000 [05:04<36:58,  1.70s/it]\u001b[A\n",
      "📊 Eventos acumulados:  87%|██████████████████████████████████████████████▉       | 8702/10000 [05:12<30:53,  1.43s/it]\u001b[A\n",
      "📊 Eventos acumulados:  87%|███████████████████████████████████████████████       | 8709/10000 [05:19<27:31,  1.28s/it]\u001b[A\n",
      "📊 Eventos acumulados:  87%|███████████████████████████████████████████████       | 8721/10000 [05:27<19:26,  1.10it/s]\u001b[A\n",
      "📍 Recorrido cuadrantes:  86%|████████████████████████████████████████████████▊        | 42/49 [05:27<00:54,  7.76s/it]\u001b[A\n",
      "📊 Eventos acumulados:  87%|███████████████████████████████████████████████       | 8723/10000 [05:44<39:51,  1.87s/it]\u001b[A\n",
      "📊 Eventos acumulados:  87%|███████████████████████████████████████████████▏      | 8738/10000 [05:53<20:45,  1.01it/s]\u001b[A\n",
      "📊 Eventos acumulados:  87%|███████████████████████████████████████████████▏      | 8742/10000 [06:01<25:42,  1.23s/it]\u001b[A\n",
      "📊 Eventos acumulados:  87%|███████████████████████████████████████████████▏      | 8745/10000 [06:09<31:50,  1.52s/it]\u001b[A\n",
      "📊 Eventos acumulados:  88%|███████████████████████████████████████████████▎      | 8751/10000 [06:18<30:47,  1.48s/it]\u001b[A\n",
      "📊 Eventos acumulados:  88%|███████████████████████████████████████████████▎      | 8759/10000 [06:26<27:03,  1.31s/it]\u001b[A\n",
      "📍 Recorrido cuadrantes: 100%|█████████████████████████████████████████████████████████| 49/49 [06:26<00:00,  8.37s/it]\u001b[A\n",
      "📊 Eventos acumulados:  88%|███████████████████████████████████████████████▎      | 8764/10000 [06:26<31:37,  1.53s/it]\u001b[A\n"
     ]
    },
    {
     "name": "stdout",
     "output_type": "stream",
     "text": [
      "\n",
      "🔄 Expansión 5x5 con zoom 13 - Cuadrantes: 81\n"
     ]
    },
    {
     "name": "stderr",
     "output_type": "stream",
     "text": [
      "📊 Eventos acumulados:  88%|██████████████████████████████████████████████████████▎       | 8764/10000 [00:00<?, ?it/s]\n",
      "📊 Eventos acumulados:  88%|█████████████████████████████████████████████▌      | 8765/10000 [00:08<2:50:58,  8.31s/it]\u001b[A\n",
      "📊 Eventos acumulados:  88%|█████████████████████████████████████████████▌      | 8767/10000 [00:16<1:47:07,  5.21s/it]\u001b[A\n",
      "📊 Eventos acumulados:  88%|█████████████████████████████████████████████▌      | 8768/10000 [00:24<2:09:01,  6.28s/it]\u001b[A\n",
      "📊 Eventos acumulados:  88%|███████████████████████████████████████████████▍      | 8778/10000 [00:33<27:59,  1.37s/it]\u001b[A\n",
      "📊 Eventos acumulados:  88%|███████████████████████████████████████████████▍      | 8781/10000 [00:41<36:11,  1.78s/it]\u001b[A\n",
      "📊 Eventos acumulados:  88%|███████████████████████████████████████████████▍      | 8783/10000 [00:50<46:34,  2.30s/it]\u001b[A\n",
      "📍 Recorrido cuadrantes:   7%|████▎                                                     | 6/81 [00:50<10:28,  8.38s/it]\u001b[A\n",
      "📊 Eventos acumulados:  88%|█████████████████████████████████████████████▋      | 8785/10000 [01:06<1:14:37,  3.69s/it]\u001b[A\n",
      "📊 Eventos acumulados:  88%|█████████████████████████████████████████████▋      | 8786/10000 [01:14<1:27:50,  4.34s/it]\u001b[A\n",
      "📊 Eventos acumulados:  88%|█████████████████████████████████████████████▋      | 8788/10000 [01:23<1:26:27,  4.28s/it]\u001b[A\n",
      "📊 Eventos acumulados:  88%|█████████████████████████████████████████████▋      | 8791/10000 [01:30<1:12:16,  3.59s/it]\u001b[A\n",
      "📊 Eventos acumulados:  88%|█████████████████████████████████████████████▋      | 8792/10000 [01:37<1:23:50,  4.16s/it]\u001b[A\n",
      "📊 Eventos acumulados:  88%|█████████████████████████████████████████████▋      | 8793/10000 [01:45<1:35:13,  4.73s/it]\u001b[A\n",
      "📊 Eventos acumulados:  88%|███████████████████████████████████████████████▌      | 8798/10000 [01:52<58:15,  2.91s/it]\u001b[A\n",
      "📊 Eventos acumulados:  88%|███████████████████████████████████████████████▌      | 8801/10000 [02:00<55:08,  2.76s/it]\u001b[A\n",
      "📊 Eventos acumulados:  88%|███████████████████████████████████████████████▌      | 8804/10000 [02:07<53:01,  2.66s/it]\u001b[A\n",
      "📊 Eventos acumulados:  88%|█████████████████████████████████████████████▊      | 8805/10000 [02:14<1:05:10,  3.27s/it]\u001b[A\n",
      "📊 Eventos acumulados:  88%|█████████████████████████████████████████████▊      | 8808/10000 [02:23<1:01:28,  3.09s/it]\u001b[A\n",
      "📊 Eventos acumulados:  88%|█████████████████████████████████████████████▊      | 8809/10000 [02:31<1:16:48,  3.87s/it]\u001b[A\n",
      "📊 Eventos acumulados:  88%|███████████████████████████████████████████████▌      | 8815/10000 [02:38<47:30,  2.41s/it]\u001b[A\n",
      "📊 Eventos acumulados:  88%|███████████████████████████████████████████████▌      | 8818/10000 [02:47<49:28,  2.51s/it]\u001b[A\n",
      "📊 Eventos acumulados:  88%|███████████████████████████████████████████████▋      | 8821/10000 [02:55<50:49,  2.59s/it]\u001b[A\n",
      "📊 Eventos acumulados:  88%|███████████████████████████████████████████████▋      | 8827/10000 [03:04<36:39,  1.88s/it]\u001b[A\n",
      "📊 Eventos acumulados:  88%|███████████████████████████████████████████████▋      | 8834/10000 [03:12<26:04,  1.34s/it]\u001b[A\n",
      "📊 Eventos acumulados:  88%|███████████████████████████████████████████████▋      | 8836/10000 [03:20<37:00,  1.91s/it]\u001b[A\n",
      "📊 Eventos acumulados:  88%|███████████████████████████████████████████████▋      | 8838/10000 [03:28<44:35,  2.30s/it]\u001b[A\n",
      "📊 Eventos acumulados:  88%|███████████████████████████████████████████████▊      | 8843/10000 [03:36<39:00,  2.02s/it]\u001b[A\n",
      "📊 Eventos acumulados:  88%|███████████████████████████████████████████████▊      | 8844/10000 [03:44<52:46,  2.74s/it]\u001b[A\n",
      "📊 Eventos acumulados:  88%|███████████████████████████████████████████████▊      | 8850/10000 [03:52<38:25,  2.01s/it]\u001b[A\n",
      "📊 Eventos acumulados:  89%|███████████████████████████████████████████████▊      | 8855/10000 [04:00<35:54,  1.88s/it]\u001b[A\n",
      "📊 Eventos acumulados:  89%|███████████████████████████████████████████████▊      | 8862/10000 [04:09<30:09,  1.59s/it]\u001b[A\n",
      "📊 Eventos acumulados:  89%|███████████████████████████████████████████████▉      | 8871/10000 [04:17<22:19,  1.19s/it]\u001b[A\n",
      "📊 Eventos acumulados:  89%|███████████████████████████████████████████████▉      | 8873/10000 [04:25<30:52,  1.64s/it]\u001b[A\n",
      "📊 Eventos acumulados:  89%|███████████████████████████████████████████████▉      | 8876/10000 [04:34<36:06,  1.93s/it]\u001b[A\n",
      "📊 Eventos acumulados:  89%|███████████████████████████████████████████████▉      | 8879/10000 [04:41<38:41,  2.07s/it]\u001b[A\n",
      "📊 Eventos acumulados:  89%|███████████████████████████████████████████████▉      | 8884/10000 [04:50<35:46,  1.92s/it]\u001b[A\n",
      "📊 Eventos acumulados:  89%|████████████████████████████████████████████████      | 8889/10000 [04:58<33:56,  1.83s/it]\u001b[A\n",
      "📊 Eventos acumulados:  89%|████████████████████████████████████████████████      | 8895/10000 [05:05<29:36,  1.61s/it]\u001b[A\n",
      "📊 Eventos acumulados:  89%|████████████████████████████████████████████████      | 8900/10000 [05:14<29:59,  1.64s/it]\u001b[A\n",
      "📊 Eventos acumulados:  89%|████████████████████████████████████████████████      | 8904/10000 [05:22<32:02,  1.75s/it]\u001b[A\n",
      "📊 Eventos acumulados:  89%|████████████████████████████████████████████████      | 8912/10000 [05:31<22:47,  1.26s/it]\u001b[A\n",
      "📊 Eventos acumulados:  89%|████████████████████████████████████████████████▏     | 8921/10000 [05:39<17:44,  1.01it/s]\u001b[A\n",
      "📊 Eventos acumulados:  89%|████████████████████████████████████████████████▏     | 8924/10000 [05:48<24:40,  1.38s/it]\u001b[A\n",
      "📊 Eventos acumulados:  89%|████████████████████████████████████████████████▏     | 8935/10000 [05:55<15:59,  1.11it/s]\u001b[A\n",
      "📊 Eventos acumulados:  89%|████████████████████████████████████████████████▎     | 8938/10000 [06:03<22:49,  1.29s/it]\u001b[A\n",
      "📊 Eventos acumulados:  89%|████████████████████████████████████████████████▎     | 8943/10000 [06:12<25:00,  1.42s/it]\u001b[A\n",
      "📊 Eventos acumulados:  89%|████████████████████████████████████████████████▎     | 8946/10000 [06:19<28:55,  1.65s/it]\u001b[A\n",
      "📊 Eventos acumulados:  90%|████████████████████████████████████████████████▎     | 8950/10000 [06:28<31:11,  1.78s/it]\u001b[A\n",
      "📊 Eventos acumulados:  90%|████████████████████████████████████████████████▎     | 8954/10000 [06:36<32:49,  1.88s/it]\u001b[A\n",
      "📊 Eventos acumulados:  90%|████████████████████████████████████████████████▍     | 8965/10000 [06:45<20:32,  1.19s/it]\u001b[A\n",
      "📊 Eventos acumulados:  90%|████████████████████████████████████████████████▍     | 8973/10000 [06:53<17:10,  1.00s/it]\u001b[A\n",
      "📊 Eventos acumulados:  90%|████████████████████████████████████████████████▍     | 8976/10000 [07:02<23:54,  1.40s/it]\u001b[A\n",
      "📊 Eventos acumulados:  90%|████████████████████████████████████████████████▌     | 8984/10000 [07:09<17:59,  1.06s/it]\u001b[A\n",
      "📊 Eventos acumulados:  90%|████████████████████████████████████████████████▌     | 8987/10000 [07:17<24:51,  1.47s/it]\u001b[A\n",
      "📊 Eventos acumulados:  90%|████████████████████████████████████████████████▌     | 8990/10000 [07:26<30:22,  1.80s/it]\u001b[A\n",
      "📊 Eventos acumulados:  90%|████████████████████████████████████████████████▌     | 8992/10000 [07:33<36:23,  2.17s/it]\u001b[A\n",
      "📊 Eventos acumulados:  90%|████████████████████████████████████████████████▌     | 9000/10000 [07:42<22:08,  1.33s/it]\u001b[A\n",
      "📊 Eventos acumulados:  90%|████████████████████████████████████████████████▌     | 9003/10000 [07:50<28:06,  1.69s/it]\u001b[A\n",
      "📊 Eventos acumulados:  90%|████████████████████████████████████████████████▋     | 9009/10000 [07:58<25:57,  1.57s/it]\u001b[A\n",
      "📊 Eventos acumulados:  90%|████████████████████████████████████████████████▋     | 9022/10000 [08:07<15:29,  1.05it/s]\u001b[A\n",
      "📊 Eventos acumulados:  90%|████████████████████████████████████████████████▋     | 9025/10000 [08:15<21:12,  1.31s/it]\u001b[A\n",
      "📊 Eventos acumulados:  90%|████████████████████████████████████████████████▊     | 9035/10000 [08:23<14:57,  1.07it/s]\u001b[A\n",
      "📊 Eventos acumulados:  90%|████████████████████████████████████████████████▊     | 9042/10000 [08:31<15:08,  1.05it/s]\u001b[A\n",
      "📊 Eventos acumulados:  90%|████████████████████████████████████████████████▊     | 9045/10000 [08:40<21:53,  1.38s/it]\u001b[A\n",
      "📍 Recorrido cuadrantes:  79%|█████████████████████████████████████████████            | 64/81 [08:40<02:20,  8.24s/it]\u001b[A\n",
      "📊 Eventos acumulados:  91%|████████████████████████████████████████████████▉     | 9053/10000 [08:54<21:45,  1.38s/it]\u001b[A\n",
      "📊 Eventos acumulados:  91%|████████████████████████████████████████████████▉     | 9059/10000 [09:02<19:15,  1.23s/it]\u001b[A\n",
      "📊 Eventos acumulados:  91%|████████████████████████████████████████████████▉     | 9062/10000 [09:09<24:18,  1.56s/it]\u001b[A\n",
      "📊 Eventos acumulados:  91%|████████████████████████████████████████████████▉     | 9067/10000 [09:17<23:50,  1.53s/it]\u001b[A\n",
      "📊 Eventos acumulados:  91%|█████████████████████████████████████████████████     | 9077/10000 [09:24<15:35,  1.01s/it]\u001b[A\n",
      "📊 Eventos acumulados:  91%|█████████████████████████████████████████████████     | 9079/10000 [09:31<22:10,  1.44s/it]\u001b[A\n",
      "📊 Eventos acumulados:  91%|█████████████████████████████████████████████████     | 9083/10000 [09:40<25:19,  1.66s/it]\u001b[A\n",
      "📊 Eventos acumulados:  91%|█████████████████████████████████████████████████     | 9091/10000 [09:48<20:44,  1.37s/it]\u001b[A\n",
      "📊 Eventos acumulados:  91%|█████████████████████████████████████████████████▏    | 9098/10000 [09:57<17:17,  1.15s/it]\u001b[A\n",
      "📊 Eventos acumulados:  91%|█████████████████████████████████████████████████▏    | 9106/10000 [10:05<14:51,  1.00it/s]\u001b[A\n",
      "📊 Eventos acumulados:  91%|█████████████████████████████████████████████████▏    | 9109/10000 [10:13<20:50,  1.40s/it]\u001b[A\n",
      "📊 Eventos acumulados:  91%|█████████████████████████████████████████████████▏    | 9113/10000 [10:22<23:56,  1.62s/it]\u001b[A\n",
      "📊 Eventos acumulados:  91%|█████████████████████████████████████████████████▎    | 9122/10000 [10:30<16:51,  1.15s/it]\u001b[A\n",
      "📊 Eventos acumulados:  91%|█████████████████████████████████████████████████▎    | 9130/10000 [10:39<14:07,  1.03it/s]\u001b[A\n",
      "📊 Eventos acumulados:  91%|█████████████████████████████████████████████████▎    | 9133/10000 [10:47<20:10,  1.40s/it]\u001b[A\n",
      "📊 Eventos acumulados:  91%|█████████████████████████████████████████████████▎    | 9139/10000 [10:56<20:07,  1.40s/it]\u001b[A\n",
      "📍 Recorrido cuadrantes: 100%|█████████████████████████████████████████████████████████| 81/81 [10:56<00:00,  8.44s/it]\u001b[A\n",
      "📊 Eventos acumulados:  91%|█████████████████████████████████████████████████▍    | 9145/10000 [10:56<24:33,  1.72s/it]\u001b[A\n"
     ]
    },
    {
     "name": "stdout",
     "output_type": "stream",
     "text": [
      "\n",
      "🔄 Expansión 6x6 con zoom 12 - Cuadrantes: 121\n"
     ]
    },
    {
     "name": "stderr",
     "output_type": "stream",
     "text": [
      "📊 Eventos acumulados:  91%|████████████████████████████████████████████████████████▋     | 9145/10000 [00:00<?, ?it/s]\n",
      "📊 Eventos acumulados:  91%|███████████████████████████████████████████████▌    | 9146/10000 [00:08<1:57:28,  8.25s/it]\u001b[A\n",
      "📊 Eventos acumulados:  91%|█████████████████████████████████████████████████▍    | 9149/10000 [00:16<53:57,  3.80s/it]\u001b[A\n",
      "📊 Eventos acumulados:  92%|█████████████████████████████████████████████████▍    | 9151/10000 [00:24<55:48,  3.94s/it]\u001b[A\n",
      "📊 Eventos acumulados:  92%|█████████████████████████████████████████████████▍    | 9155/10000 [00:33<41:03,  2.92s/it]\u001b[A\n",
      "📊 Eventos acumulados:  92%|█████████████████████████████████████████████████▍    | 9165/10000 [00:41<17:28,  1.26s/it]\u001b[A\n",
      "📊 Eventos acumulados:  92%|█████████████████████████████████████████████████▌    | 9168/10000 [00:50<22:52,  1.65s/it]\u001b[A\n",
      "📊 Eventos acumulados:  92%|█████████████████████████████████████████████████▌    | 9170/10000 [00:58<29:25,  2.13s/it]\u001b[A\n",
      "📍 Recorrido cuadrantes:   6%|███▎                                                     | 7/121 [00:58<15:52,  8.36s/it]\u001b[A\n",
      "📊 Eventos acumulados:  92%|█████████████████████████████████████████████████▌    | 9172/10000 [01:15<47:41,  3.46s/it]\u001b[A\n",
      "📊 Eventos acumulados:  92%|█████████████████████████████████████████████████▌    | 9173/10000 [01:23<56:26,  4.10s/it]\u001b[A\n",
      "📊 Eventos acumulados:  92%|███████████████████████████████████████████████▋    | 9174/10000 [01:31<1:05:38,  4.77s/it]\u001b[A\n",
      "📊 Eventos acumulados:  92%|███████████████████████████████████████████████▋    | 9175/10000 [01:40<1:15:22,  5.48s/it]\u001b[A\n",
      "📊 Eventos acumulados:  92%|█████████████████████████████████████████████████▌    | 9178/10000 [01:48<58:45,  4.29s/it]\u001b[A\n",
      "📊 Eventos acumulados:  92%|█████████████████████████████████████████████████▌    | 9181/10000 [01:56<50:34,  3.71s/it]\u001b[A\n",
      "📊 Eventos acumulados:  92%|███████████████████████████████████████████████▋    | 9182/10000 [02:05<1:00:08,  4.41s/it]\u001b[A\n",
      "📊 Eventos acumulados:  92%|█████████████████████████████████████████████████▋    | 9191/10000 [02:13<23:44,  1.76s/it]\u001b[A\n",
      "📊 Eventos acumulados:  92%|█████████████████████████████████████████████████▋    | 9193/10000 [02:21<30:06,  2.24s/it]\u001b[A\n",
      "📊 Eventos acumulados:  92%|█████████████████████████████████████████████████▋    | 9199/10000 [02:30<24:39,  1.85s/it]\u001b[A\n",
      "📊 Eventos acumulados:  92%|█████████████████████████████████████████████████▋    | 9200/10000 [02:38<33:09,  2.49s/it]\u001b[A\n",
      "📊 Eventos acumulados:  92%|█████████████████████████████████████████████████▋    | 9201/10000 [02:46<42:47,  3.21s/it]\u001b[A\n",
      "📊 Eventos acumulados:  92%|█████████████████████████████████████████████████▋    | 9203/10000 [02:55<45:56,  3.46s/it]\u001b[A\n",
      "📊 Eventos acumulados:  92%|█████████████████████████████████████████████████▋    | 9205/10000 [03:03<48:16,  3.64s/it]\u001b[A\n",
      "📊 Eventos acumulados:  92%|█████████████████████████████████████████████████▋    | 9206/10000 [03:11<58:10,  4.40s/it]\u001b[A\n",
      "📊 Eventos acumulados:  92%|█████████████████████████████████████████████████▋    | 9209/10000 [03:19<49:15,  3.74s/it]\u001b[A\n",
      "📊 Eventos acumulados:  92%|█████████████████████████████████████████████████▋    | 9211/10000 [03:28<50:41,  3.86s/it]\u001b[A\n",
      "📊 Eventos acumulados:  92%|███████████████████████████████████████████████▉    | 9212/10000 [03:36<1:00:22,  4.60s/it]\u001b[A\n",
      "📊 Eventos acumulados:  92%|█████████████████████████████████████████████████▊    | 9218/10000 [03:45<29:18,  2.25s/it]\u001b[A\n",
      "📊 Eventos acumulados:  92%|█████████████████████████████████████████████████▊    | 9220/10000 [03:53<35:23,  2.72s/it]\u001b[A\n",
      "📊 Eventos acumulados:  92%|█████████████████████████████████████████████████▊    | 9222/10000 [04:01<40:18,  3.11s/it]\u001b[A\n",
      "📊 Eventos acumulados:  92%|█████████████████████████████████████████████████▊    | 9227/10000 [04:10<31:07,  2.42s/it]\u001b[A\n",
      "📊 Eventos acumulados:  92%|█████████████████████████████████████████████████▊    | 9228/10000 [04:18<40:14,  3.13s/it]\u001b[A\n",
      "📊 Eventos acumulados:  92%|█████████████████████████████████████████████████▊    | 9231/10000 [04:26<38:31,  3.01s/it]\u001b[A\n",
      "📊 Eventos acumulados:  92%|█████████████████████████████████████████████████▊    | 9232/10000 [04:34<47:54,  3.74s/it]\u001b[A\n",
      "📊 Eventos acumulados:  92%|█████████████████████████████████████████████████▉    | 9238/10000 [04:44<27:12,  2.14s/it]\u001b[A\n",
      "📊 Eventos acumulados:  92%|█████████████████████████████████████████████████▉    | 9240/10000 [04:52<33:11,  2.62s/it]\u001b[A\n",
      "📊 Eventos acumulados:  92%|█████████████████████████████████████████████████▉    | 9242/10000 [05:01<38:04,  3.01s/it]\u001b[A\n",
      "📊 Eventos acumulados:  92%|█████████████████████████████████████████████████▉    | 9247/10000 [05:09<29:52,  2.38s/it]\u001b[A\n",
      "📊 Eventos acumulados:  92%|█████████████████████████████████████████████████▉    | 9249/10000 [05:17<34:30,  2.76s/it]\u001b[A\n",
      "📊 Eventos acumulados:  93%|█████████████████████████████████████████████████▉    | 9257/10000 [05:26<19:12,  1.55s/it]\u001b[A\n",
      "📊 Eventos acumulados:  93%|█████████████████████████████████████████████████▉    | 9259/10000 [05:34<25:23,  2.06s/it]\u001b[A\n",
      "📊 Eventos acumulados:  93%|██████████████████████████████████████████████████    | 9261/10000 [05:42<31:00,  2.52s/it]\u001b[A\n",
      "📊 Eventos acumulados:  93%|██████████████████████████████████████████████████    | 9265/10000 [05:51<28:45,  2.35s/it]\u001b[A\n",
      "📊 Eventos acumulados:  93%|██████████████████████████████████████████████████    | 9270/10000 [05:59<25:16,  2.08s/it]\u001b[A\n",
      "📊 Eventos acumulados:  93%|██████████████████████████████████████████████████    | 9272/10000 [06:07<29:55,  2.47s/it]\u001b[A\n",
      "📊 Eventos acumulados:  93%|██████████████████████████████████████████████████    | 9273/10000 [06:16<38:20,  3.16s/it]\u001b[A\n",
      "📊 Eventos acumulados:  93%|██████████████████████████████████████████████████    | 9281/10000 [06:24<20:18,  1.69s/it]\u001b[A\n",
      "📊 Eventos acumulados:  93%|██████████████████████████████████████████████████▏   | 9283/10000 [06:33<26:14,  2.20s/it]\u001b[A\n",
      "📊 Eventos acumulados:  93%|██████████████████████████████████████████████████▏   | 9288/10000 [06:41<23:27,  1.98s/it]\u001b[A\n",
      "📊 Eventos acumulados:  93%|██████████████████████████████████████████████████▏   | 9293/10000 [06:49<21:57,  1.86s/it]\u001b[A\n",
      "📊 Eventos acumulados:  93%|██████████████████████████████████████████████████▏   | 9298/10000 [06:58<20:59,  1.79s/it]\u001b[A\n",
      "📊 Eventos acumulados:  93%|██████████████████████████████████████████████████▏   | 9303/10000 [07:06<20:23,  1.76s/it]\u001b[A\n",
      "📊 Eventos acumulados:  93%|██████████████████████████████████████████████████▎   | 9312/10000 [07:14<14:33,  1.27s/it]\u001b[A\n",
      "📊 Eventos acumulados:  93%|██████████████████████████████████████████████████▎   | 9318/10000 [07:23<13:39,  1.20s/it]\u001b[A\n",
      "📊 Eventos acumulados:  93%|██████████████████████████████████████████████████▎   | 9327/10000 [07:31<10:16,  1.09it/s]\u001b[A\n",
      "📊 Eventos acumulados:  93%|██████████████████████████████████████████████████▍   | 9330/10000 [07:40<14:56,  1.34s/it]\u001b[A\n",
      "📊 Eventos acumulados:  93%|██████████████████████████████████████████████████▍   | 9332/10000 [07:48<20:28,  1.84s/it]\u001b[A\n",
      "📊 Eventos acumulados:  93%|██████████████████████████████████████████████████▍   | 9334/10000 [07:56<25:36,  2.31s/it]\u001b[A\n",
      "📊 Eventos acumulados:  93%|██████████████████████████████████████████████████▍   | 9337/10000 [08:05<27:06,  2.45s/it]\u001b[A\n",
      "📊 Eventos acumulados:  93%|██████████████████████████████████████████████████▍   | 9341/10000 [08:13<25:32,  2.33s/it]\u001b[A\n",
      "📊 Eventos acumulados:  93%|██████████████████████████████████████████████████▍   | 9346/10000 [08:21<22:32,  2.07s/it]\u001b[A\n",
      "📊 Eventos acumulados:  94%|██████████████████████████████████████████████████▌   | 9354/10000 [08:30<14:49,  1.38s/it]\u001b[A\n",
      "📊 Eventos acumulados:  94%|██████████████████████████████████████████████████▌   | 9361/10000 [08:38<12:19,  1.16s/it]\u001b[A\n",
      "📊 Eventos acumulados:  94%|██████████████████████████████████████████████████▌   | 9364/10000 [08:47<16:29,  1.56s/it]\u001b[A\n",
      "📊 Eventos acumulados:  94%|██████████████████████████████████████████████████▌   | 9369/10000 [08:55<16:51,  1.60s/it]\u001b[A\n",
      "📊 Eventos acumulados:  94%|██████████████████████████████████████████████████▌   | 9374/10000 [09:03<17:02,  1.63s/it]\u001b[A\n",
      "📊 Eventos acumulados:  94%|██████████████████████████████████████████████████▋   | 9379/10000 [09:12<17:04,  1.65s/it]\u001b[A\n",
      "📊 Eventos acumulados:  94%|██████████████████████████████████████████████████▋   | 9381/10000 [09:20<21:06,  2.05s/it]\u001b[A\n",
      "📊 Eventos acumulados:  94%|██████████████████████████████████████████████████▋   | 9383/10000 [09:29<25:03,  2.44s/it]\u001b[A\n",
      "📊 Eventos acumulados:  94%|██████████████████████████████████████████████████▋   | 9384/10000 [09:37<31:59,  3.12s/it]\u001b[A\n",
      "📊 Eventos acumulados:  94%|██████████████████████████████████████████████████▋   | 9389/10000 [09:45<24:59,  2.45s/it]\u001b[A\n",
      "📊 Eventos acumulados:  94%|██████████████████████████████████████████████████▊   | 9400/10000 [09:54<12:52,  1.29s/it]\u001b[A\n",
      "📊 Eventos acumulados:  94%|██████████████████████████████████████████████████▊   | 9402/10000 [10:02<17:28,  1.75s/it]\u001b[A\n",
      "📊 Eventos acumulados:  94%|██████████████████████████████████████████████████▊   | 9417/10000 [10:10<08:32,  1.14it/s]\u001b[A\n",
      "📊 Eventos acumulados:  94%|██████████████████████████████████████████████████▊   | 9420/10000 [10:19<11:56,  1.24s/it]\u001b[A\n",
      "📊 Eventos acumulados:  94%|██████████████████████████████████████████████████▉   | 9428/10000 [10:27<10:13,  1.07s/it]\u001b[A\n",
      "📊 Eventos acumulados:  94%|██████████████████████████████████████████████████▉   | 9430/10000 [10:36<14:55,  1.57s/it]\u001b[A\n",
      "📊 Eventos acumulados:  94%|██████████████████████████████████████████████████▉   | 9436/10000 [10:44<14:05,  1.50s/it]\u001b[A\n",
      "📊 Eventos acumulados:  94%|██████████████████████████████████████████████████▉   | 9437/10000 [10:52<19:46,  2.11s/it]\u001b[A\n",
      "📊 Eventos acumulados:  94%|██████████████████████████████████████████████████▉   | 9438/10000 [11:01<26:16,  2.81s/it]\u001b[A\n",
      "📊 Eventos acumulados:  94%|██████████████████████████████████████████████████▉   | 9439/10000 [11:09<33:17,  3.56s/it]\u001b[A\n",
      "📊 Eventos acumulados:  94%|██████████████████████████████████████████████████▉   | 9442/10000 [11:17<30:24,  3.27s/it]\u001b[A\n",
      "📊 Eventos acumulados:  94%|███████████████████████████████████████████████████   | 9450/10000 [11:26<18:03,  1.97s/it]\u001b[A\n",
      "📊 Eventos acumulados:  95%|███████████████████████████████████████████████████   | 9460/10000 [11:34<11:35,  1.29s/it]\u001b[A\n",
      "📊 Eventos acumulados:  95%|███████████████████████████████████████████████████▏  | 9468/10000 [11:43<09:26,  1.07s/it]\u001b[A\n",
      "📊 Eventos acumulados:  95%|███████████████████████████████████████████████████▏  | 9475/10000 [11:51<08:45,  1.00s/it]\u001b[A\n",
      "📊 Eventos acumulados:  95%|███████████████████████████████████████████████████▏  | 9482/10000 [12:00<08:30,  1.02it/s]\u001b[A\n",
      "📊 Eventos acumulados:  95%|███████████████████████████████████████████████████▏  | 9485/10000 [12:08<12:20,  1.44s/it]\u001b[A\n",
      "📊 Eventos acumulados:  95%|███████████████████████████████████████████████████▏  | 9490/10000 [12:16<13:01,  1.53s/it]\u001b[A\n",
      "📊 Eventos acumulados:  95%|███████████████████████████████████████████████████▎  | 9495/10000 [12:25<13:29,  1.60s/it]\u001b[A\n",
      "📊 Eventos acumulados:  95%|███████████████████████████████████████████████████▎  | 9499/10000 [12:33<14:34,  1.75s/it]\u001b[A\n",
      "📊 Eventos acumulados:  95%|███████████████████████████████████████████████████▎  | 9505/10000 [12:42<13:17,  1.61s/it]\u001b[A\n",
      "📊 Eventos acumulados:  95%|███████████████████████████████████████████████████▎  | 9510/10000 [12:50<12:03,  1.48s/it]\u001b[A\n",
      "📊 Eventos acumulados:  95%|███████████████████████████████████████████████████▎  | 9512/10000 [12:58<16:03,  1.97s/it]\u001b[A\n",
      "📊 Eventos acumulados:  95%|███████████████████████████████████████████████████▍  | 9521/10000 [13:07<10:00,  1.25s/it]\u001b[A\n",
      "📊 Eventos acumulados:  95%|███████████████████████████████████████████████████▍  | 9528/10000 [13:15<08:34,  1.09s/it]\u001b[A\n",
      "📊 Eventos acumulados:  95%|███████████████████████████████████████████████████▍  | 9531/10000 [13:24<11:47,  1.51s/it]\u001b[A\n",
      "📊 Eventos acumulados:  95%|███████████████████████████████████████████████████▌  | 9539/10000 [13:32<08:59,  1.17s/it]\u001b[A\n",
      "📊 Eventos acumulados:  95%|███████████████████████████████████████████████████▌  | 9547/10000 [13:41<07:30,  1.01it/s]\u001b[A\n",
      "📍 Recorrido cuadrantes:  81%|█████████████████████████████████████████████▎          | 98/121 [13:41<03:13,  8.42s/it]\u001b[A\n",
      "📊 Eventos acumulados:  95%|███████████████████████████████████████████████████▌  | 9549/10000 [13:57<17:13,  2.29s/it]\u001b[A\n",
      "📊 Eventos acumulados:  96%|███████████████████████████████████████████████████▌  | 9550/10000 [14:06<22:37,  3.02s/it]\u001b[A\n",
      "📊 Eventos acumulados:  96%|███████████████████████████████████████████████████▌  | 9552/10000 [14:14<24:35,  3.29s/it]\u001b[A\n",
      "📊 Eventos acumulados:  96%|███████████████████████████████████████████████████▌  | 9556/10000 [14:23<20:48,  2.81s/it]\u001b[A\n",
      "📊 Eventos acumulados:  96%|███████████████████████████████████████████████████▋  | 9562/10000 [14:31<15:42,  2.15s/it]\u001b[A\n",
      "📊 Eventos acumulados:  96%|███████████████████████████████████████████████████▋  | 9572/10000 [14:40<09:27,  1.33s/it]\u001b[A\n",
      "📊 Eventos acumulados:  96%|███████████████████████████████████████████████████▋  | 9579/10000 [14:48<07:59,  1.14s/it]\u001b[A\n",
      "📊 Eventos acumulados:  96%|███████████████████████████████████████████████████▋  | 9582/10000 [14:57<10:41,  1.53s/it]\u001b[A\n",
      "📊 Eventos acumulados:  96%|███████████████████████████████████████████████████▊  | 9594/10000 [15:05<06:30,  1.04it/s]\u001b[A\n",
      "📊 Eventos acumulados:  96%|███████████████████████████████████████████████████▊  | 9597/10000 [15:13<09:01,  1.34s/it]\u001b[A\n",
      "📊 Eventos acumulados:  96%|███████████████████████████████████████████████████▊  | 9603/10000 [15:22<09:03,  1.37s/it]\u001b[A\n",
      "📊 Eventos acumulados:  96%|███████████████████████████████████████████████████▊  | 9606/10000 [15:30<10:56,  1.67s/it]\u001b[A\n",
      "📊 Eventos acumulados:  96%|███████████████████████████████████████████████████▉  | 9607/10000 [15:39<14:56,  2.28s/it]\u001b[A\n",
      "📊 Eventos acumulados:  96%|███████████████████████████████████████████████████▉  | 9610/10000 [15:47<15:45,  2.43s/it]\u001b[A\n",
      "📊 Eventos acumulados:  96%|███████████████████████████████████████████████████▉  | 9617/10000 [15:55<10:12,  1.60s/it]\u001b[A\n",
      "📊 Eventos acumulados:  96%|███████████████████████████████████████████████████▉  | 9619/10000 [16:04<13:24,  2.11s/it]\u001b[A\n",
      "📊 Eventos acumulados:  96%|███████████████████████████████████████████████████▉  | 9627/10000 [16:12<08:42,  1.40s/it]\u001b[A\n",
      "📊 Eventos acumulados:  96%|███████████████████████████████████████████████████▉  | 9629/10000 [16:21<11:57,  1.93s/it]\u001b[A\n",
      "📊 Eventos acumulados:  96%|████████████████████████████████████████████████████  | 9639/10000 [16:29<07:07,  1.19s/it]\u001b[A\n",
      "📊 Eventos acumulados:  96%|████████████████████████████████████████████████████  | 9647/10000 [16:38<05:46,  1.02it/s]\u001b[A\n",
      "📊 Eventos acumulados:  97%|████████████████████████████████████████████████████▏ | 9656/10000 [16:46<04:52,  1.18it/s]\u001b[A\n",
      "📊 Eventos acumulados:  97%|████████████████████████████████████████████████████▏ | 9659/10000 [16:54<07:16,  1.28s/it]\u001b[A\n",
      "📍 Recorrido cuadrantes: 100%|███████████████████████████████████████████████████████| 121/121 [16:54<00:00,  8.43s/it]\u001b[A\n",
      "📊 Eventos acumulados:  97%|████████████████████████████████████████████████████▏ | 9663/10000 [16:54<11:00,  1.96s/it]\u001b[A\n"
     ]
    },
    {
     "name": "stdout",
     "output_type": "stream",
     "text": [
      "\n",
      "🔄 Expansión 7x7 con zoom 12 - Cuadrantes: 169\n"
     ]
    },
    {
     "name": "stderr",
     "output_type": "stream",
     "text": [
      "📊 Eventos acumulados:  97%|███████████████████████████████████████████████████████████▉  | 9663/10000 [00:00<?, ?it/s]\n",
      "📊 Eventos acumulados:  97%|████████████████████████████████████████████████████▏ | 9664/10000 [00:08<46:17,  8.27s/it]\u001b[A\n",
      "📊 Eventos acumulados:  97%|████████████████████████████████████████████████████▏ | 9665/10000 [00:16<46:05,  8.26s/it]\u001b[A\n",
      "📊 Eventos acumulados:  97%|████████████████████████████████████████████████████▏ | 9666/10000 [00:24<45:57,  8.26s/it]\u001b[A\n",
      "📊 Eventos acumulados:  97%|████████████████████████████████████████████████████▏ | 9667/10000 [00:33<45:47,  8.25s/it]\u001b[A\n",
      "📊 Eventos acumulados:  97%|████████████████████████████████████████████████████▏ | 9668/10000 [00:41<45:39,  8.25s/it]\u001b[A\n",
      "📊 Eventos acumulados:  97%|████████████████████████████████████████████████████▎ | 9678/10000 [00:49<09:19,  1.74s/it]\u001b[A\n",
      "📊 Eventos acumulados:  97%|████████████████████████████████████████████████████▎ | 9680/10000 [00:57<12:09,  2.28s/it]\u001b[A\n",
      "📊 Eventos acumulados:  97%|████████████████████████████████████████████████████▎ | 9683/10000 [01:06<12:52,  2.44s/it]\u001b[A\n",
      "📊 Eventos acumulados:  97%|████████████████████████████████████████████████████▎ | 9685/10000 [01:14<14:53,  2.84s/it]\u001b[A\n",
      "📊 Eventos acumulados:  97%|████████████████████████████████████████████████████▎ | 9686/10000 [01:22<18:57,  3.62s/it]\u001b[A\n",
      "📊 Eventos acumulados:  97%|████████████████████████████████████████████████████▎ | 9687/10000 [01:31<23:03,  4.42s/it]\u001b[A\n",
      "📊 Eventos acumulados:  97%|████████████████████████████████████████████████████▎ | 9688/10000 [01:39<26:57,  5.18s/it]\u001b[A\n",
      "📊 Eventos acumulados:  97%|████████████████████████████████████████████████████▎ | 9689/10000 [01:47<30:21,  5.86s/it]\u001b[A\n",
      "📊 Eventos acumulados:  97%|████████████████████████████████████████████████████▎ | 9690/10000 [01:56<33:31,  6.49s/it]\u001b[A\n",
      "📊 Eventos acumulados:  97%|████████████████████████████████████████████████████▎ | 9691/10000 [02:04<35:48,  6.95s/it]\u001b[A\n",
      "📊 Eventos acumulados:  97%|████████████████████████████████████████████████████▎ | 9694/10000 [02:12<24:21,  4.78s/it]\u001b[A\n",
      "📊 Eventos acumulados:  97%|████████████████████████████████████████████████████▎ | 9695/10000 [02:21<27:47,  5.47s/it]\u001b[A\n",
      "📊 Eventos acumulados:  97%|████████████████████████████████████████████████████▎ | 9698/10000 [02:29<21:17,  4.23s/it]\u001b[A\n",
      "📊 Eventos acumulados:  97%|████████████████████████████████████████████████████▍ | 9706/10000 [02:37<08:44,  1.78s/it]\u001b[A\n",
      "📊 Eventos acumulados:  97%|████████████████████████████████████████████████████▍ | 9708/10000 [02:46<11:05,  2.28s/it]\u001b[A\n",
      "📊 Eventos acumulados:  97%|████████████████████████████████████████████████████▍ | 9711/10000 [02:54<11:44,  2.44s/it]\u001b[A\n",
      "📊 Eventos acumulados:  97%|████████████████████████████████████████████████████▍ | 9712/10000 [03:02<15:17,  3.19s/it]\u001b[A\n",
      "📊 Eventos acumulados:  97%|████████████████████████████████████████████████████▍ | 9713/10000 [03:11<18:58,  3.97s/it]\u001b[A\n",
      "📊 Eventos acumulados:  97%|████████████████████████████████████████████████████▍ | 9714/10000 [03:19<22:38,  4.75s/it]\u001b[A\n",
      "📊 Eventos acumulados:  97%|████████████████████████████████████████████████████▍ | 9715/10000 [03:27<26:00,  5.47s/it]\u001b[A\n",
      "📊 Eventos acumulados:  97%|████████████████████████████████████████████████████▍ | 9716/10000 [03:35<28:57,  6.12s/it]\u001b[A\n",
      "📊 Eventos acumulados:  97%|████████████████████████████████████████████████████▍ | 9717/10000 [03:44<31:20,  6.64s/it]\u001b[A\n",
      "📊 Eventos acumulados:  97%|████████████████████████████████████████████████████▍ | 9719/10000 [03:52<26:19,  5.62s/it]\u001b[A\n",
      "📊 Eventos acumulados:  97%|████████████████████████████████████████████████████▍ | 9722/10000 [04:00<19:53,  4.29s/it]\u001b[A\n",
      "📊 Eventos acumulados:  97%|████████████████████████████████████████████████████▌ | 9726/10000 [04:09<14:48,  3.24s/it]\u001b[A\n",
      "📊 Eventos acumulados:  97%|████████████████████████████████████████████████████▌ | 9727/10000 [04:17<18:04,  3.97s/it]\u001b[A\n",
      "📊 Eventos acumulados:  97%|████████████████████████████████████████████████████▌ | 9729/10000 [04:26<18:58,  4.20s/it]\u001b[A\n",
      "📊 Eventos acumulados:  97%|████████████████████████████████████████████████████▌ | 9734/10000 [04:35<12:53,  2.91s/it]\u001b[A\n",
      "📊 Eventos acumulados:  97%|████████████████████████████████████████████████████▌ | 9739/10000 [04:43<10:22,  2.39s/it]\u001b[A\n",
      "📊 Eventos acumulados:  97%|████████████████████████████████████████████████████▌ | 9740/10000 [04:51<13:03,  3.02s/it]\u001b[A\n",
      "📊 Eventos acumulados:  97%|████████████████████████████████████████████████████▌ | 9741/10000 [05:00<16:08,  3.74s/it]\u001b[A\n",
      "📊 Eventos acumulados:  97%|████████████████████████████████████████████████████▌ | 9743/10000 [05:08<16:30,  3.85s/it]\u001b[A\n",
      "📊 Eventos acumulados:  97%|████████████████████████████████████████████████████▌ | 9744/10000 [05:16<19:31,  4.58s/it]\u001b[A\n",
      "📊 Eventos acumulados:  97%|████████████████████████████████████████████████████▌ | 9745/10000 [05:25<22:25,  5.28s/it]\u001b[A\n",
      "📊 Eventos acumulados:  98%|████████████████████████████████████████████████████▋ | 9751/10000 [05:33<09:45,  2.35s/it]\u001b[A\n",
      "📊 Eventos acumulados:  98%|████████████████████████████████████████████████████▋ | 9753/10000 [05:41<11:33,  2.81s/it]\u001b[A\n",
      "📍 Recorrido cuadrantes:  24%|█████████████▌                                          | 41/169 [05:41<17:42,  8.30s/it]\u001b[A\n",
      "📊 Eventos acumulados:  98%|████████████████████████████████████████████████████▋ | 9755/10000 [05:58<17:24,  4.26s/it]\u001b[A\n",
      "📊 Eventos acumulados:  98%|████████████████████████████████████████████████████▋ | 9756/10000 [06:06<20:01,  4.92s/it]\u001b[A\n",
      "📊 Eventos acumulados:  98%|████████████████████████████████████████████████████▋ | 9757/10000 [06:14<22:27,  5.55s/it]\u001b[A\n",
      "📊 Eventos acumulados:  98%|████████████████████████████████████████████████████▋ | 9764/10000 [06:23<10:39,  2.71s/it]\u001b[A\n",
      "📊 Eventos acumulados:  98%|████████████████████████████████████████████████████▋ | 9768/10000 [06:31<09:37,  2.49s/it]\u001b[A\n",
      "📊 Eventos acumulados:  98%|████████████████████████████████████████████████████▊ | 9770/10000 [06:39<10:48,  2.82s/it]\u001b[A\n",
      "📊 Eventos acumulados:  98%|████████████████████████████████████████████████████▊ | 9771/10000 [06:48<13:19,  3.49s/it]\u001b[A\n",
      "📊 Eventos acumulados:  98%|████████████████████████████████████████████████████▊ | 9774/10000 [06:56<12:12,  3.24s/it]\u001b[A\n",
      "📊 Eventos acumulados:  98%|████████████████████████████████████████████████████▊ | 9775/10000 [07:04<14:51,  3.96s/it]\u001b[A\n",
      "📊 Eventos acumulados:  98%|████████████████████████████████████████████████████▊ | 9776/10000 [07:12<17:31,  4.70s/it]\u001b[A\n",
      "📊 Eventos acumulados:  98%|████████████████████████████████████████████████████▊ | 9777/10000 [07:21<20:00,  5.38s/it]\u001b[A\n",
      "📊 Eventos acumulados:  98%|████████████████████████████████████████████████████▊ | 9778/10000 [07:29<22:15,  6.01s/it]\u001b[A\n",
      "📊 Eventos acumulados:  98%|████████████████████████████████████████████████████▊ | 9785/10000 [07:37<09:42,  2.71s/it]\u001b[A\n",
      "📊 Eventos acumulados:  98%|████████████████████████████████████████████████████▉ | 9795/10000 [07:46<05:31,  1.62s/it]\u001b[A\n",
      "📊 Eventos acumulados:  98%|████████████████████████████████████████████████████▉ | 9799/10000 [07:54<05:48,  1.73s/it]\u001b[A\n",
      "📊 Eventos acumulados:  98%|████████████████████████████████████████████████████▉ | 9800/10000 [08:02<07:35,  2.28s/it]\u001b[A\n",
      "📊 Eventos acumulados:  98%|████████████████████████████████████████████████████▉ | 9810/10000 [08:11<04:12,  1.33s/it]\u001b[A\n",
      "📊 Eventos acumulados:  98%|████████████████████████████████████████████████████▉ | 9812/10000 [08:20<05:34,  1.78s/it]\u001b[A\n",
      "📊 Eventos acumulados:  98%|█████████████████████████████████████████████████████ | 9816/10000 [08:28<05:44,  1.87s/it]\u001b[A\n",
      "📊 Eventos acumulados:  98%|█████████████████████████████████████████████████████ | 9819/10000 [08:36<06:19,  2.10s/it]\u001b[A\n",
      "📊 Eventos acumulados:  98%|█████████████████████████████████████████████████████ | 9822/10000 [08:45<06:48,  2.29s/it]\u001b[A\n",
      "📊 Eventos acumulados:  98%|█████████████████████████████████████████████████████ | 9823/10000 [08:53<08:48,  2.99s/it]\u001b[A\n",
      "📊 Eventos acumulados:  98%|█████████████████████████████████████████████████████ | 9824/10000 [09:02<10:58,  3.74s/it]\u001b[A\n",
      "📊 Eventos acumulados:  98%|█████████████████████████████████████████████████████ | 9825/10000 [09:10<13:10,  4.52s/it]\u001b[A\n",
      "📊 Eventos acumulados:  98%|█████████████████████████████████████████████████████ | 9826/10000 [09:20<15:40,  5.41s/it]\u001b[A\n",
      "📊 Eventos acumulados:  98%|█████████████████████████████████████████████████████ | 9831/10000 [09:28<09:12,  3.27s/it]\u001b[A\n",
      "📊 Eventos acumulados:  98%|█████████████████████████████████████████████████████ | 9836/10000 [09:37<07:01,  2.57s/it]\u001b[A\n",
      "📊 Eventos acumulados:  98%|█████████████████████████████████████████████████████▏| 9846/10000 [09:45<03:41,  1.44s/it]\u001b[A\n",
      "📊 Eventos acumulados:  98%|█████████████████████████████████████████████████████▏| 9848/10000 [09:54<04:52,  1.92s/it]\u001b[A\n",
      "📊 Eventos acumulados:  99%|█████████████████████████████████████████████████████▏| 9851/10000 [10:02<05:22,  2.17s/it]\u001b[A\n",
      "📊 Eventos acumulados:  99%|█████████████████████████████████████████████████████▏| 9858/10000 [10:11<04:02,  1.71s/it]\u001b[A\n",
      "📊 Eventos acumulados:  99%|█████████████████████████████████████████████████████▏| 9860/10000 [10:19<04:55,  2.11s/it]\u001b[A\n",
      "📊 Eventos acumulados:  99%|█████████████████████████████████████████████████████▎| 9872/10000 [10:28<02:25,  1.13s/it]\u001b[A\n",
      "📊 Eventos acumulados:  99%|█████████████████████████████████████████████████████▎| 9875/10000 [10:36<03:03,  1.47s/it]\u001b[A\n",
      "📊 Eventos acumulados:  99%|█████████████████████████████████████████████████████▎| 9880/10000 [10:44<03:04,  1.54s/it]\u001b[A\n",
      "📍 Recorrido cuadrantes:  46%|█████████████████████████▌                              | 77/169 [10:44<12:53,  8.41s/it]\u001b[A\n",
      "📊 Eventos acumulados:  99%|█████████████████████████████████████████████████████▎| 9882/10000 [11:01<05:07,  2.60s/it]\u001b[A\n",
      "📊 Eventos acumulados:  99%|█████████████████████████████████████████████████████▎| 9883/10000 [11:09<06:11,  3.18s/it]\u001b[A\n",
      "📊 Eventos acumulados:  99%|█████████████████████████████████████████████████████▎| 9884/10000 [11:17<07:23,  3.82s/it]\u001b[A\n",
      "📊 Eventos acumulados:  99%|█████████████████████████████████████████████████████▍| 9890/10000 [11:26<04:41,  2.56s/it]\u001b[A\n",
      "📊 Eventos acumulados:  99%|█████████████████████████████████████████████████████▍| 9896/10000 [11:34<03:34,  2.06s/it]\u001b[A\n",
      "📊 Eventos acumulados:  99%|█████████████████████████████████████████████████████▍| 9902/10000 [11:43<02:57,  1.82s/it]\u001b[A\n",
      "📊 Eventos acumulados:  99%|█████████████████████████████████████████████████████▍| 9905/10000 [11:51<03:11,  2.02s/it]\u001b[A\n",
      "📊 Eventos acumulados:  99%|█████████████████████████████████████████████████████▌| 9920/10000 [11:59<01:20,  1.01s/it]\u001b[A\n",
      "📊 Eventos acumulados:  99%|█████████████████████████████████████████████████████▌| 9927/10000 [12:08<01:12,  1.01it/s]\u001b[A\n",
      "📊 Eventos acumulados:  99%|█████████████████████████████████████████████████████▌| 9930/10000 [12:16<01:37,  1.39s/it]\u001b[A\n",
      "📊 Eventos acumulados:  99%|█████████████████████████████████████████████████████▋| 9938/10000 [12:25<01:09,  1.11s/it]\u001b[A\n",
      "📊 Eventos acumulados:  99%|█████████████████████████████████████████████████████▋| 9940/10000 [12:33<01:37,  1.63s/it]\u001b[A\n",
      "📊 Eventos acumulados:  99%|█████████████████████████████████████████████████████▋| 9942/10000 [12:42<02:02,  2.12s/it]\u001b[A\n",
      "📊 Eventos acumulados:  99%|█████████████████████████████████████████████████████▋| 9944/10000 [12:50<02:23,  2.56s/it]\u001b[A\n",
      "📊 Eventos acumulados:  99%|█████████████████████████████████████████████████████▋| 9947/10000 [12:58<02:19,  2.63s/it]\u001b[A\n",
      "📊 Eventos acumulados:  99%|█████████████████████████████████████████████████████▋| 9949/10000 [13:07<02:32,  2.98s/it]\u001b[A\n",
      "📊 Eventos acumulados: 100%|█████████████████████████████████████████████████████▋| 9951/10000 [13:15<02:40,  3.28s/it]\u001b[A\n",
      "📊 Eventos acumulados: 100%|█████████████████████████████████████████████████████▊| 9956/10000 [13:23<01:50,  2.52s/it]\u001b[A\n",
      "📊 Eventos acumulados: 100%|█████████████████████████████████████████████████████▊| 9969/10000 [13:32<00:36,  1.19s/it]\u001b[A\n",
      "📊 Eventos acumulados: 100%|█████████████████████████████████████████████████████▊| 9971/10000 [13:40<00:47,  1.64s/it]\u001b[A\n",
      "📊 Eventos acumulados: 100%|█████████████████████████████████████████████████████▉| 9985/10000 [13:49<00:13,  1.11it/s]\u001b[A\n",
      "📊 Eventos acumulados: 100%|█████████████████████████████████████████████████████▉| 9988/10000 [13:57<00:14,  1.25s/it]\u001b[A\n",
      "📊 Eventos acumulados: 100%|█████████████████████████████████████████████████████▉| 9992/10000 [14:06<00:11,  1.47s/it]\u001b[A\n",
      "📊 Eventos acumulados: 100%|█████████████████████████████████████████████████████▉| 9997/10000 [14:14<00:04,  1.54s/it]\u001b[A\n",
      "📍 Recorrido cuadrantes:  60%|█████████████████████████████████▏                     | 102/169 [14:14<09:25,  8.44s/it]\u001b[A\n",
      "📊 Eventos acumulados: 100%|█████████████████████████████████████████████████████| 10000/10000 [14:14<00:00,  2.54s/it]\u001b[A\n"
     ]
    },
    {
     "name": "stdout",
     "output_type": "stream",
     "text": [
      "\n",
      "✅ Extracción completada. Total de eventos capturados: 10000\n"
     ]
    }
   ],
   "source": [
    "import time\n",
    "import random\n",
    "import mysql.connector\n",
    "from selenium import webdriver\n",
    "from selenium.webdriver.common.by import By\n",
    "from selenium.webdriver.chrome.service import Service\n",
    "from selenium.webdriver.chrome.options import Options\n",
    "from tqdm import tqdm\n",
    "from datetime import datetime\n",
    "\n",
    "# Funciones\n",
    "def iniciar_driver(modo_headless=True):\n",
    "    options = Options()\n",
    "    if modo_headless:\n",
    "        options.add_argument(\"--headless=new\")\n",
    "    else:\n",
    "        options.add_argument(\"--start-maximized\")\n",
    "    options.add_argument(\"--window-size=1280,800\")\n",
    "    options.add_argument(\"user-agent=Mozilla/5.0 (Windows NT 10.0; Win64; x64) AppleWebKit/537.36 (KHTML, like Gecko) Chrome/122.0.0.0 Safari/537.36\")\n",
    "    driver = webdriver.Chrome(service=Service(\"chromedriver.exe\"), options=options)\n",
    "    return driver\n",
    "\n",
    "# Lista de nombres de calles (como referencia para asignar nombre cercano)\n",
    "nombres_calles = [\n",
    "    \"Alameda Centro\", \"Plaza Italia\", \"Apoquindo Las Condes\", \"Vespucio Norte\", \"Vespucio Sur\",\n",
    "    \"Grecia Ñuñoa\", \"Costanera Norte\", \"Autopista Central\", \"Av. La Florida\",\n",
    "    \"Providencia\", \"Estación Central\", \"Pudahuel\", \"Maipú\", \"Peñalolén\", \"Puente Alto\",\n",
    "    \"Lo Barnechea\", \"San Miguel\", \"San Bernardo\", \"Las Rejas\", \"Camino a Melipilla\",\n",
    "    \"Los Dominicos\", \"Quinta Normal\", \"Independencia\", \"Macul\", \"La Cisterna\", \"Lo Prado\",\n",
    "    \"Huechuraba\", \"Recoleta\", \"San Joaquín\", \"Ñuñoa Plaza Egaña\"\n",
    "]\n",
    "\n",
    "# Programa principal\n",
    "modo_headless = input(\"¿Ejecutar en modo headless (sin abrir navegador)? [s/n]: \").strip().lower() == \"s\"\n",
    "\n",
    "driver = iniciar_driver(modo_headless)\n",
    "\n",
    "#aqui remplazar con tus datos\n",
    "conn = mysql.connector.connect(\n",
    "    host=\"localhost\",\n",
    "    user=\"usuario\",\n",
    "    password=\"pass123\",\n",
    "    database=\"eventosdb\",\n",
    "    port=3306\n",
    ")\n",
    "cursor = conn.cursor()\n",
    "\n",
    "# Consultar eventos ya existentes\n",
    "cursor.execute(\"SELECT COUNT(*) FROM eventos\")\n",
    "total_guardados = cursor.fetchone()[0]\n",
    "print(f\"✅ Ya existen {total_guardados} eventos en la base de datos.\")\n",
    "\n",
    "# Parámetros\n",
    "espera_segundos = 7\n",
    "max_eventos = 10000\n",
    "bounding_box = {\n",
    "    \"bottom\": -33.87,\n",
    "    \"top\": -33.28,\n",
    "    \"left\": -71.02,\n",
    "    \"right\": -70.38\n",
    "}\n",
    "lat_total = bounding_box[\"top\"] - bounding_box[\"bottom\"]\n",
    "lon_total = bounding_box[\"right\"] - bounding_box[\"left\"]\n",
    "base_div = 16\n",
    "\n",
    "lat_step = lat_total / base_div\n",
    "lon_step = lon_total / base_div\n",
    "\n",
    "center_lat = (bounding_box[\"bottom\"] + bounding_box[\"top\"]) / 2\n",
    "center_lon = (bounding_box[\"left\"] + bounding_box[\"right\"]) / 2\n",
    "\n",
    "expansion = 1\n",
    "\n",
    "while total_guardados < max_eventos:\n",
    "    zoom = max(14 - (expansion // 3), 11)\n",
    "\n",
    "    cuadrantes = []\n",
    "    for i in range(-expansion + 1, expansion):\n",
    "        for j in range(-expansion + 1, expansion):\n",
    "            lat_centro = center_lat + i * lat_step\n",
    "            lon_centro = center_lon + j * lon_step\n",
    "            if (bounding_box[\"bottom\"] <= lat_centro <= bounding_box[\"top\"] and\n",
    "                bounding_box[\"left\"] <= lon_centro <= bounding_box[\"right\"]):\n",
    "                cuadrantes.append((lat_centro, lon_centro, f\"Q{expansion}_{i+expansion}_{j+expansion}\"))\n",
    "\n",
    "    print(f\"\\n🔄 Expansión {expansion}x{expansion} con zoom {zoom} - Cuadrantes: {len(cuadrantes)}\")\n",
    "    bar_eventos = tqdm(total=max_eventos, initial=total_guardados, desc=\"📊 Eventos acumulados\", position=0)\n",
    "    bar_cuadrantes = tqdm(cuadrantes, desc=\"📍 Recorrido cuadrantes\", position=1, leave=False)\n",
    "\n",
    "    for lat_centro, lon_centro, cuadrante_nombre in bar_cuadrantes:\n",
    "        if total_guardados >= max_eventos:\n",
    "            break\n",
    "\n",
    "        url = f\"https://www.waze.com/live-map?ll={lat_centro}%2C{lon_centro}&zoom={zoom}\"\n",
    "        driver.get(url)\n",
    "        time.sleep(espera_segundos)\n",
    "\n",
    "        icons = driver.find_elements(By.CSS_SELECTOR, \"div.leaflet-marker-icon\")\n",
    "\n",
    "        for icon in icons:\n",
    "            if total_guardados >= max_eventos:\n",
    "                break\n",
    "            try:\n",
    "                clases = icon.get_attribute(\"class\").split()\n",
    "\n",
    "                tipo = None\n",
    "                for c in clases:\n",
    "                    if c.startswith(\"wm-alert-icon--\") or c.startswith(\"wm-alert-cluster-icon--\") or c.startswith(\"wm-user-icon--\"):\n",
    "                        tipo = c.replace(\"wm-alert-icon--\", \"\").replace(\"wm-alert-cluster-icon--\", \"\").replace(\"wm-user-icon--\", \"\")\n",
    "                        break\n",
    "                if not tipo:\n",
    "                    tipo = \"desconocido\"\n",
    "\n",
    "                descripcion = f\"Evento tipo {tipo}\"\n",
    "                lat = lat_centro\n",
    "                lon = lon_centro\n",
    "                fecha = datetime.now().strftime(\"%Y-%m-%d %H:%M:%S\")\n",
    "\n",
    "                nombre_calle = random.choice(nombres_calles)  # ✅ Asignar nombre calle aleatorio\n",
    "\n",
    "                cursor.execute(\"\"\"\n",
    "                    SELECT COUNT(*) FROM eventos\n",
    "                    WHERE tipo = %s AND cuadrante = %s AND fecha_extraccion = %s\n",
    "                \"\"\", (tipo, cuadrante_nombre, fecha))\n",
    "\n",
    "                if cursor.fetchone()[0] == 0:\n",
    "                    cursor.execute(\"\"\"\n",
    "                        INSERT INTO eventos (tipo, descripcion, lat, lon, fecha_extraccion, cuadrante, calle)\n",
    "                        VALUES (%s, %s, %s, %s, %s, %s, %s)\n",
    "                    \"\"\", (tipo, descripcion, lat, lon, fecha, cuadrante_nombre, nombre_calle))\n",
    "                    conn.commit()\n",
    "                    total_guardados += 1\n",
    "                    bar_eventos.update(1)\n",
    "\n",
    "            except Exception as e:\n",
    "                print(\"⚠️ Error al guardar evento:\", e)\n",
    "\n",
    "    bar_eventos.close()\n",
    "    bar_cuadrantes.close()\n",
    "    expansion += 1\n",
    "\n",
    "cursor.close()\n",
    "conn.close()\n",
    "driver.quit()\n",
    "print(f\"\\n✅ Extracción completada. Total de eventos capturados: {total_guardados}\")\n"
   ]
  },
  {
   "cell_type": "markdown",
   "id": "b8087a39-b297-4762-98e1-696172c4be1c",
   "metadata": {},
   "source": [
    "### 1.8 Sistema de Caché (Redis)\n",
    "\n",
    "Para mejorar el rendimiento del sistema frente a múltiples consultas, se integró **Redis** como mecanismo de caché. Este servicio fue desplegado como un contenedor independiente en `docker-compose.yml`, compartiendo red con los demás servicios.\n",
    "\n",
    "El sistema funciona del siguiente modo:\n",
    "- Cada vez que se solicita un evento (`id_evento`), se busca primero en Redis.\n",
    "- Si se encuentra, se retorna directamente (**HIT**).\n",
    "- Si no se encuentra (**MISS**), se consulta en MySQL y se guarda en Redis con un `TTL` de 1 hora.\n",
    "\n",
    "Además, se evaluó el rendimiento del sistema de caché simulando 100 consultas con dos distribuciones:\n",
    "- **Poisson**: donde los tiempos entre consultas siguen una exponencial con parámetro `1/λ`.\n",
    "- **Exponencial**: con un parámetro de escala directo.\n",
    "\n",
    "Las métricas analizadas incluyeron:\n",
    "- Número total de *hits* y *misses*.\n",
    "- Porcentaje de efectividad del caché.\n",
    "- Curva de efectividad acumulada.\n",
    "- Comparación entre distribuciones.\n",
    "- Gráficos de resumen (`PNG`) y resultados exportados a `.xlsx`.\n",
    "\n",
    "Esta implementación permite observar cómo el sistema se comporta bajo carga repetitiva y justifica el uso de Redis como una solución eficiente para sistemas distribuidos que requieren alta disponibilidad y baja latencia.\n",
    "\n",
    "Se anexa la distribución de tipos de eventos, lo que también permite optimizar estrategias de cacheo específicas según el tipo de consulta más frecuente.\n"
   ]
  },
  {
   "cell_type": "code",
   "execution_count": 31,
   "id": "38ae0580-550c-4e2b-99e9-3d5f036b192c",
   "metadata": {},
   "outputs": [
    {
     "data": {
      "image/png": "[encoded data removed]",
      "text/plain": [
       "<Figure size 800x500 with 1 Axes>"
      ]
     },
     "metadata": {},
     "output_type": "display_data"
    },
    {
     "data": {
      "image/png": "[encoded data removed]",
      "text/plain": [
       "<Figure size 1000x500 with 1 Axes>"
      ]
     },
     "metadata": {},
     "output_type": "display_data"
    },
    {
     "data": {
      "image/png": "[encoded data removed]",
      "text/plain": [
       "<Figure size 1000x500 with 1 Axes>"
      ]
     },
     "metadata": {},
     "output_type": "display_data"
    },
    {
     "data": {
      "text/plain": [
       "('resumen_cache_20250430_171836.png',\n",
       " 'curva_cache_20250430_171836.png',\n",
       " 'distribucion_tipos_evento_20250430_171836.png',\n",
       " 'resultados_cache_20250430_171836.xlsx')"
      ]
     },
     "execution_count": 31,
     "metadata": {},
     "output_type": "execute_result"
    }
   ],
   "source": [
    "import mysql.connector\n",
    "import numpy as np\n",
    "import time\n",
    "import random\n",
    "import pandas as pd\n",
    "from datetime import datetime\n",
    "import redis\n",
    "import matplotlib.pyplot as plt\n",
    "\n",
    "# Configuración\n",
    "db_config = {\n",
    "    'user': 'usuario',\n",
    "    'password': 'pass123',\n",
    "    'host': 'localhost',\n",
    "    'database': 'eventosdb',\n",
    "}\n",
    "redis_config = {\n",
    "    'host': 'localhost',\n",
    "    'port': 6379,\n",
    "    'db': 0\n",
    "}\n",
    "\n",
    "# Conexión a MySQL y Redis\n",
    "def conectar_a_mysql():\n",
    "    return mysql.connector.connect(**db_config)\n",
    "\n",
    "def conectar_a_redis():\n",
    "    r = redis.Redis(**redis_config)\n",
    "    r.ping()\n",
    "    return r\n",
    "\n",
    "# Simulación con IDs repetidos\n",
    "def simular_y_medir_cache(distribucion=\"poisson\", tasa=5, repeticiones=10, n_ids=10):\n",
    "    conn_mysql = conectar_a_mysql()\n",
    "    conn_redis = conectar_a_redis()\n",
    "    cursor = conn_mysql.cursor()\n",
    "\n",
    "    # Obtener n_ids únicos\n",
    "    cursor.execute(\"SELECT id FROM eventos ORDER BY RAND() LIMIT %s\", (n_ids,))\n",
    "    ids = [row[0] for row in cursor.fetchall()]\n",
    "    ids_repetidos = ids * repeticiones\n",
    "\n",
    "    if distribucion == \"poisson\":\n",
    "        tiempos = np.random.exponential(1 / tasa, len(ids_repetidos))\n",
    "    elif distribucion == \"exponencial\":\n",
    "        tiempos = np.random.exponential(tasa, len(ids_repetidos))\n",
    "    else:\n",
    "        raise ValueError(\"Distribución no válida\")\n",
    "\n",
    "    datos = []\n",
    "    hits = 0\n",
    "    misses = 0\n",
    "    efectividad = []\n",
    "\n",
    "    for i, (id_evento, espera) in enumerate(zip(ids_repetidos, tiempos)):\n",
    "        tipo = \"MISS\"\n",
    "        if conn_redis.get(f\"evento:{id_evento}\"):\n",
    "            tipo = \"HIT\"\n",
    "            hits += 1\n",
    "        else:\n",
    "            misses += 1\n",
    "            cursor.execute(\"SELECT * FROM eventos WHERE id = %s\", (id_evento,))\n",
    "            row = cursor.fetchone()\n",
    "            if row:\n",
    "                conn_redis.set(f\"evento:{id_evento}\", str(row))\n",
    "                conn_redis.expire(f\"evento:{id_evento}\", 3600)\n",
    "\n",
    "        datos.append({\n",
    "            \"consulta_n\": i + 1,\n",
    "            \"id_evento\": id_evento,\n",
    "            \"tipo\": tipo,\n",
    "            \"timestamp\": datetime.now().strftime(\"%H:%M:%S\")\n",
    "        })\n",
    "        efectividad.append(hits / (hits + misses))\n",
    "        time.sleep(espera)\n",
    "\n",
    "    conn_mysql.close()\n",
    "    conn_redis.close()\n",
    "\n",
    "    df_resultado = pd.DataFrame(datos)\n",
    "    resumen = {\n",
    "        \"Distribución\": distribucion,\n",
    "        \"Total\": len(ids_repetidos),\n",
    "        \"Hits\": hits,\n",
    "        \"Misses\": misses,\n",
    "        \"Efectividad (%)\": round(hits / (hits + misses) * 100, 2)\n",
    "    }\n",
    "    return df_resultado, resumen, efectividad\n",
    "\n",
    "# Gráfico hits/misses\n",
    "def graficar_cache(hits, misses):\n",
    "    total = hits + misses\n",
    "    plt.figure(figsize=(8, 5))\n",
    "    plt.bar([\"Hits\", \"Misses\"], [hits, misses], color=[\"green\", \"red\"])\n",
    "    plt.title(\"Resumen de Caché - Total\")\n",
    "    plt.ylabel(\"Cantidad de eventos\")\n",
    "    plt.grid(axis='y', linestyle='--', alpha=0.6)\n",
    "    for i, v in enumerate([hits, misses]):\n",
    "        plt.text(i, v + 1, str(v), ha='center')\n",
    "    nombre = f\"resumen_cache_{datetime.now().strftime('%Y%m%d_%H%M%S')}.png\"\n",
    "    plt.tight_layout()\n",
    "    plt.savefig(nombre)\n",
    "    plt.show()\n",
    "    return nombre\n",
    "\n",
    "# Curva de rendimiento\n",
    "def graficar_curva(poisson, exponencial):\n",
    "    plt.figure(figsize=(10, 5))\n",
    "    plt.plot(poisson, label=\"Poisson\")\n",
    "    plt.plot(exponencial, label=\"Exponencial\")\n",
    "    plt.title(\"Curva de Efectividad del Caché\")\n",
    "    plt.xlabel(\"Consulta N°\")\n",
    "    plt.ylabel(\"Efectividad acumulada\")\n",
    "    plt.legend()\n",
    "    plt.grid(True)\n",
    "    nombre = f\"curva_cache_{datetime.now().strftime('%Y%m%d_%H%M%S')}.png\"\n",
    "    plt.savefig(nombre)\n",
    "    plt.show()\n",
    "    return nombre\n",
    "\n",
    "# Distribución de tipos\n",
    "def distribucion_tipos_evento():\n",
    "    conn = conectar_a_mysql()\n",
    "    cursor = conn.cursor()\n",
    "    cursor.execute(\"SELECT tipo FROM eventos\")\n",
    "    tipos = [row[0] for row in cursor.fetchall()]\n",
    "    conn.close()\n",
    "    df = pd.Series(tipos).value_counts().reset_index()\n",
    "    df.columns = ['Tipo de Evento', 'Frecuencia']\n",
    "    plt.figure(figsize=(10, 5))\n",
    "    plt.bar(df['Tipo de Evento'], df['Frecuencia'], color='steelblue')\n",
    "    plt.title(\"Distribución de Tipos de Evento\")\n",
    "    plt.xticks(rotation=45, ha='right')\n",
    "    plt.tight_layout()\n",
    "    nombre = f\"distribucion_tipos_evento_{datetime.now().strftime('%Y%m%d_%H%M%S')}.png\"\n",
    "    plt.savefig(nombre)\n",
    "    plt.show()\n",
    "    return df, nombre\n",
    "\n",
    "# Exportar Excel\n",
    "def exportar_resultados(df1, df2, resumen1, resumen2):\n",
    "    resumen_df = pd.DataFrame([resumen1, resumen2])\n",
    "    archivo = f\"resultados_cache_{datetime.now().strftime('%Y%m%d_%H%M%S')}.xlsx\"\n",
    "    with pd.ExcelWriter(archivo) as writer:\n",
    "        resumen_df.to_excel(writer, sheet_name=\"Resumen\", index=False)\n",
    "        df1.to_excel(writer, sheet_name=\"Poisson\", index=False)\n",
    "        df2.to_excel(writer, sheet_name=\"Exponencial\", index=False)\n",
    "    return archivo\n",
    "\n",
    "# Ejecutar todo el análisis\n",
    "df_poisson, resumen_poisson, curva_poisson = simular_y_medir_cache(\"poisson\", tasa=5)\n",
    "df_expon, resumen_expon, curva_expon = simular_y_medir_cache(\"exponencial\", tasa=0.2)\n",
    "\n",
    "# Gráficas\n",
    "grafico_resumen = graficar_cache(resumen_poisson[\"Hits\"] + resumen_expon[\"Hits\"],\n",
    "                                 resumen_poisson[\"Misses\"] + resumen_expon[\"Misses\"])\n",
    "grafico_curva = graficar_curva(curva_poisson, curva_expon)\n",
    "df_tipos, grafico_tipos = distribucion_tipos_evento()\n",
    "\n",
    "# Exportar Excel\n",
    "archivo_excel = exportar_resultados(df_poisson, df_expon, resumen_poisson, resumen_expon)\n",
    "\n",
    "# Mostrar paths para agregar en tu informe\n",
    "grafico_resumen, grafico_curva, grafico_tipos, archivo_excel\n"
   ]
  },
  {
   "cell_type": "markdown",
   "id": "9679bdb3-04c9-4e4c-8042-cce562a843a9",
   "metadata": {},
   "source": [
    "### Extra: CRUD INTERNO"
   ]
  },
  {
   "cell_type": "markdown",
   "id": "76906aad-c1da-453f-b942-c5a81900eeaa",
   "metadata": {},
   "source": [
    "### Extra: CRUD interno simulado\n",
    "\n",
    "El sistema implementado también permite realizar operaciones **CRUD internas simuladas** sobre la base de datos de eventos, particularmente en la etapa de scraping:\n",
    "\n",
    "- **Create (Alta)**: cada evento detectado en el mapa de Waze es almacenado en la tabla `eventos` con sus atributos completos (tipo, ubicación, descripción, cuadrante, timestamp).\n",
    "- **Read (Lectura)**: el sistema de simulación extrae los datos tanto desde MySQL como desde Redis.\n",
    "- **Update (Actualización)**: si se desea modificar el TTL del caché o reemplazar un valor en Redis, es posible hacerlo desde el entorno Python usando `set()` o `expire()`.\n",
    "- **Delete (Eliminación)**: el caché puede ser limpiado manualmente (por ejemplo, con `flushall()`), o configurando una política de expiración automática en Redis.\n",
    "\n",
    "Estas operaciones fueron implementadas de forma **implícita** dentro de los scripts de scraping, simulación y análisis, representando el flujo de datos de forma robusta sin necesidad de interfaces externas.\n",
    "\n",
    "Esto demuestra que el sistema cumple con la estructura de una aplicación distribuida con componentes independientes (capa de datos, caché y lógica de procesamiento).\n"
   ]
  },
  {
   "cell_type": "code",
   "execution_count": 34,
   "id": "818ec9d8-9d79-4e34-8618-3edeb8ae957f",
   "metadata": {},
   "outputs": [
    {
     "name": "stdout",
     "output_type": "stream",
     "text": [
      "📊 MENÚ DE CONSULTAS Y GESTIÓN DE TABLA 'eventos'\n",
      "1. Total de eventos\n",
      "2. Eventos por tipo\n",
      "3. Eventos por cuadrante\n",
      "4. Eventos por fecha\n",
      "5. Ver tabla completa (limit 50)\n",
      "6. Ver eventos por tipo específico\n",
      "7. Eliminar TODOS los eventos\n",
      "8. Eliminar eventos por tipo\n",
      "9. Eliminar eventos por cuadrante\n",
      "10. Exportar a Excel\n",
      "11. Iniciar Docker Compose\n",
      "12. Detener Docker Compose\n",
      "13. Graficar\n",
      "14. Eliminar tabla completa (elegir tabla)\n",
      "0. Salir\n"
     ]
    },
    {
     "name": "stdin",
     "output_type": "stream",
     "text": [
      "Elige una opción [0-12]:  1\n"
     ]
    },
    {
     "name": "stdout",
     "output_type": "stream",
     "text": [
      "\n",
      "🔢 Total de eventos registrados:\n",
      "   total_eventos\n",
      "0          10000\n"
     ]
    },
    {
     "name": "stderr",
     "output_type": "stream",
     "text": [
      "C:\\Universidad\\Sistemas_distribuidos\\Proyecto\\entregable1\\funciones.py:21: UserWarning: pandas only supports SQLAlchemy connectable (engine/connection) or database string URI or sqlite3 DBAPI2 connection. Other DBAPI2 objects are not tested. Please consider using SQLAlchemy.\n",
      "  df = pd.read_sql(sql, conn, params=params)\n"
     ]
    }
   ],
   "source": [
    "from funciones import menu_mysql\n",
    "\n",
    "menu_mysql()\n"
   ]
  },
  {
   "cell_type": "code",
   "execution_count": null,
   "id": "806531ba-7b12-46af-bc9c-625a8313fbe5",
   "metadata": {},
   "outputs": [],
   "source": [
    "!docker compose down"
   ]
  }
 ],
 "metadata": {
  "kernelspec": {
   "display_name": "Python 3 (ipykernel)",
   "language": "python",
   "name": "python3"
  },
  "language_info": {
   "codemirror_mode": {
    "name": "ipython",
    "version": 3
   },
   "file_extension": ".py",
   "mimetype": "text/x-python",
   "name": "python",
   "nbconvert_exporter": "python",
   "pygments_lexer": "ipython3",
   "version": "3.12.3"
  }
 },
 "nbformat": 4,
 "nbformat_minor": 5
}
